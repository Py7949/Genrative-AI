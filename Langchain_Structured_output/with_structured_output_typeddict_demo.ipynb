{
 "cells": [
  {
   "cell_type": "code",
   "execution_count": 38,
   "id": "228d1607",
   "metadata": {},
   "outputs": [],
   "source": [
    "from langchain_groq import ChatGroq\n",
    "from typing import TypedDict,Annotated,Literal,Optional"
   ]
  },
  {
   "cell_type": "code",
   "execution_count": 37,
   "id": "0fc7f0f9",
   "metadata": {},
   "outputs": [],
   "source": [
    "llm = ChatGroq(model = \"llama-3.3-70b-versatile\", \n",
    "               temperature=0.7,\n",
    "               api_key = \"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\"\n",
    "               )"
   ]
  },
  {
   "cell_type": "code",
   "execution_count": 41,
   "id": "d5f38358",
   "metadata": {},
   "outputs": [
    {
     "name": "stdout",
     "output_type": "stream",
     "text": [
      "{'cons': ['Weight and size make it uncomfortable for one-handed use', 'Bloatware from Samsung', 'High price tag of $1,300'], 'key_themes': ['Powerful processor', 'Camera capabilities', 'Battery life', 'S-Pen integration', 'Drawbacks like weight, size, and price'], 'name': 'Pankaj Yadav', 'pros': ['Insanely powerful processor', 'Stunning 200MP camera with incredible zoom capabilities', 'Long battery life with fast charging', 'S-Pen support is unique and useful'], 'sentiment': 'pos', 'summary': 'The Samsung Galaxy S24 Ultra is a powerhouse with a fast processor, stunning camera, and long battery life, but has drawbacks like weight, size, bloatware, and a high price tag'}\n",
      "The Samsung Galaxy S24 Ultra is a powerhouse with a fast processor, stunning camera, and long battery life, but has drawbacks like weight, size, bloatware, and a high price tag\n",
      "pos\n"
     ]
    }
   ],
   "source": [
    "class Review(TypedDict):\n",
    "    key_themes: Annotated[list[str], \"Write down all the key themes discussed in the review in a list\"]\n",
    "    summary: Annotated[str,\"A brief summary of the review\" ]\n",
    "    sentiment: Annotated[Literal[\"pos\", 'neg'],\"Return sentiment of the review either negative or neutral\"]\n",
    "    pros: Annotated[Optional[list[str]], \"Write down all the pros inside a list\"]\n",
    "    cons: Annotated[Optional[list[str]], \"Write down all the cons inside a list\"]\n",
    "    name: Annotated[Optional[str], \"Write the name of the reviewer\"]\n",
    "    \n",
    "\n",
    "\n",
    "\n",
    "structured_model = llm.with_structured_output(Review)\n",
    "result = structured_model.invoke(\"\"\"I recently upgraded to the Samsung Galaxy S24 Ultra, and I must say, it’s an absolute powerhouse! The Snapdragon 8 Gen 3 processor makes everything lightning fast—whether I’m gaming, multitasking, or editing photos. The 5000mAh battery easily lasts a full day even with heavy use, and the 45W fast charging is a lifesaver.\n",
    "\n",
    "The S-Pen integration is a great touch for note-taking and quick sketches, though I don't use it often. What really blew me away is the 200MP camera—the night mode is stunning, capturing crisp, vibrant images even in low light. Zooming up to 100x actually works well for distant objects, but anything beyond 30x loses quality.\n",
    "\n",
    "However, the weight and size make it a bit uncomfortable for one-handed use. Also, Samsung’s One UI still comes with bloatware—why do I need five different Samsung apps for things Google already provides? The $1,300 price tag is also a hard pill to swallow.\n",
    "\n",
    "Pros:\n",
    "Insanely powerful processor (great for gaming and productivity)\n",
    "Stunning 200MP camera with incredible zoom capabilities\n",
    "Long battery life with fast charging\n",
    "S-Pen support is unique and useful\n",
    "                                 \n",
    "Review by Pankaj Yadav\"\"\")\n",
    "print(result)\n",
    "print(result['summary'])\n",
    "print(result['sentiment'])\n",
    "\n"
   ]
  },
  {
   "cell_type": "code",
   "execution_count": null,
   "id": "eb4b8f9f",
   "metadata": {},
   "outputs": [
    {
     "name": "stdout",
     "output_type": "stream",
     "text": [
      "{'name': 'John', 'age': 30}\n"
     ]
    }
   ],
   "source": []
  },
  {
   "cell_type": "code",
   "execution_count": null,
   "id": "da962edc",
   "metadata": {},
   "outputs": [],
   "source": []
  }
 ],
 "metadata": {
  "kernelspec": {
   "display_name": "Python 3",
   "language": "python",
   "name": "python3"
  },
  "language_info": {
   "codemirror_mode": {
    "name": "ipython",
    "version": 3
   },
   "file_extension": ".py",
   "mimetype": "text/x-python",
   "name": "python",
   "nbconvert_exporter": "python",
   "pygments_lexer": "ipython3",
   "version": "3.10.11"
  }
 },
 "nbformat": 4,
 "nbformat_minor": 5
}
