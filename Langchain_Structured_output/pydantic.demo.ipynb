{
 "cells": [
  {
   "cell_type": "code",
   "execution_count": 39,
   "id": "462a3144",
   "metadata": {},
   "outputs": [],
   "source": [
    "from pydantic import BaseModel,EmailStr,Field\n",
    "from typing import Optional"
   ]
  },
  {
   "cell_type": "code",
   "execution_count": null,
   "id": "a39d393f",
   "metadata": {},
   "outputs": [],
   "source": []
  },
  {
   "cell_type": "code",
   "execution_count": 51,
   "id": "f5808b51",
   "metadata": {},
   "outputs": [],
   "source": [
    "class Student(BaseModel):\n",
    "    name: str = 'Pankaj'\n",
    "    age: Optional[int] = None\n",
    "    email: EmailStr\n",
    "    cgpa: float = Field(gt = 0, lt = 10,default=5,description='A decimal value representing the cgpa of the student')\n"
   ]
  },
  {
   "cell_type": "code",
   "execution_count": 52,
   "id": "c62fc998",
   "metadata": {},
   "outputs": [],
   "source": [
    "new_studet = {'age' : 32, 'email' : 'abc@gmail.com'}"
   ]
  },
  {
   "cell_type": "code",
   "execution_count": 57,
   "id": "c018bbfe",
   "metadata": {},
   "outputs": [
    {
     "name": "stdout",
     "output_type": "stream",
     "text": [
      "32\n"
     ]
    }
   ],
   "source": [
    "student = Student(**new_studet)\n",
    "student_dict = dict(student)\n",
    "print(student_dict['age'])"
   ]
  },
  {
   "cell_type": "code",
   "execution_count": 58,
   "id": "4677f23d",
   "metadata": {},
   "outputs": [],
   "source": [
    "student_json = student.model_dump_json"
   ]
  },
  {
   "cell_type": "code",
   "execution_count": null,
   "id": "37f50a3f",
   "metadata": {},
   "outputs": [],
   "source": []
  },
  {
   "cell_type": "code",
   "execution_count": null,
   "id": "4564e8f5",
   "metadata": {},
   "outputs": [],
   "source": []
  }
 ],
 "metadata": {
  "kernelspec": {
   "display_name": "Python 3",
   "language": "python",
   "name": "python3"
  },
  "language_info": {
   "codemirror_mode": {
    "name": "ipython",
    "version": 3
   },
   "file_extension": ".py",
   "mimetype": "text/x-python",
   "name": "python",
   "nbconvert_exporter": "python",
   "pygments_lexer": "ipython3",
   "version": "3.10.11"
  }
 },
 "nbformat": 4,
 "nbformat_minor": 5
}
