{
  "nbformat": 4,
  "nbformat_minor": 0,
  "metadata": {
    "colab": {
      "provenance": []
    },
    "kernelspec": {
      "name": "python3",
      "display_name": "Python 3"
    },
    "language_info": {
      "name": "python"
    }
  },
  "cells": [
    {
      "cell_type": "code",
      "source": [
        "\n",
        "from langchain_groq import ChatGroq\n",
        "from langchain.prompts import PromptTemplate\n",
        "from langchain_core.output_parsers import StrOutputParser\n",
        "from langchain.schema.runnable import RunnableSequence, RunnableParallel, RunnablePassthrough\n"
      ],
      "metadata": {
        "id": "76ezUDi96Bkd"
      },
      "execution_count": 20,
      "outputs": []
    },
    {
      "cell_type": "code",
      "source": [
        "prompt1 = PromptTemplate(\n",
        "    template=\"write a joke about {topic}\",\n",
        "    input_variables=[\"topic\"]\n",
        ")"
      ],
      "metadata": {
        "id": "B3uPXKj97B-e"
      },
      "execution_count": 21,
      "outputs": []
    },
    {
      "cell_type": "code",
      "source": [
        "llm = ChatGroq(\n",
        "     groq_api_key=\"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\",\n",
        "     model=\"llama3-8b-8192\"\n",
        "\n",
        ")"
      ],
      "metadata": {
        "id": "6ShOi8Vh8dNO"
      },
      "execution_count": 22,
      "outputs": []
    },
    {
      "cell_type": "code",
      "source": [
        "parser = StrOutputParser()"
      ],
      "metadata": {
        "id": "dwPhX8c_89Qq"
      },
      "execution_count": 23,
      "outputs": []
    },
    {
      "cell_type": "code",
      "source": [
        "prompt2 = PromptTemplate(\n",
        "    template='Explain the following joke - {text}',\n",
        "    input_variables=['text']\n",
        ")"
      ],
      "metadata": {
        "id": "vHMaG9tC8vx3"
      },
      "execution_count": 24,
      "outputs": []
    },
    {
      "cell_type": "code",
      "source": [
        "joke_gen_chain = RunnableSequence(prompt1, llm, parser)"
      ],
      "metadata": {
        "id": "a4gaBK0_9Dib"
      },
      "execution_count": 25,
      "outputs": []
    },
    {
      "cell_type": "code",
      "source": [
        "parallel_chain = RunnableParallel({\n",
        "    'joke': RunnablePassthrough(),\n",
        "    'explanation': RunnableSequence(prompt2, llm, parser)\n",
        "})"
      ],
      "metadata": {
        "id": "AYyK2pU7EvXM"
      },
      "execution_count": 27,
      "outputs": []
    },
    {
      "cell_type": "code",
      "source": [
        "final_chain = RunnableSequence(joke_gen_chain,parallel_chain)"
      ],
      "metadata": {
        "id": "ZUpakUMUFy2e"
      },
      "execution_count": 28,
      "outputs": []
    },
    {
      "cell_type": "code",
      "source": [
        "print(final_chain.invoke({'topic':'cricket'}))"
      ],
      "metadata": {
        "colab": {
          "base_uri": "https://localhost:8080/"
        },
        "id": "NrKk8ZwE9O5m",
        "outputId": "2468bca3-4149-4ab5-b322-a772e1d92d0d"
      },
      "execution_count": 29,
      "outputs": [
        {
          "output_type": "stream",
          "name": "stdout",
          "text": [
            "{'joke': 'Why did the cricket go to the doctor?\\n\\nBecause it was feeling a little \"off-side\"! (get it?)', 'explanation': 'A classic play on words!\\n\\nThe joke is a pun, which is a form of wordplay that exploits multiple meanings of a word or phrase. Here\\'s how it works:\\n\\n* \"Off-side\" has a common meaning in cricket, a sport, where it refers to a batsman being in a position that is not allowed by the rules of the game.\\n* However, \"off-side\" can also be interpreted as \"feeling a little off\", meaning not feeling well or unwell, similar to how someone might say \"I\\'m feeling a little off\" if they\\'re not feeling their best.\\n\\nThe punchline \"Because it was feeling a little \\'off-side\\'!\" is funny because it takes the common cricketing term and gives it a new, unexpected meaning, connecting it to the idea of feeling unwell, which is the typical reason someone would visit a doctor. The humor comes from the surprise and cleverness of the wordplay.\\n\\nSo, the joke is saying that the cricket went to the doctor because it was feeling a little \"off-side\" (meaning unwell), but the punchline is also referencing the cricketing term \"off-side\" in a clever and humorous way!'}\n"
          ]
        }
      ]
    },
    {
      "cell_type": "code",
      "source": [],
      "metadata": {
        "id": "TH00wZItFxrQ"
      },
      "execution_count": null,
      "outputs": []
    },
    {
      "cell_type": "code",
      "source": [
        "final_chain.get_graph().print_ascii()"
      ],
      "metadata": {
        "colab": {
          "base_uri": "https://localhost:8080/"
        },
        "id": "KjmTK7Sv9Vty",
        "outputId": "53c8d104-c19f-4f71-8ec6-63773e7a628e"
      },
      "execution_count": 30,
      "outputs": [
        {
          "output_type": "stream",
          "name": "stdout",
          "text": [
            "                 +-------------+                 \n",
            "                 | PromptInput |                 \n",
            "                 +-------------+                 \n",
            "                        *                        \n",
            "                        *                        \n",
            "                        *                        \n",
            "                +----------------+               \n",
            "                | PromptTemplate |               \n",
            "                +----------------+               \n",
            "                        *                        \n",
            "                        *                        \n",
            "                        *                        \n",
            "                  +----------+                   \n",
            "                  | ChatGroq |                   \n",
            "                  +----------+                   \n",
            "                        *                        \n",
            "                        *                        \n",
            "                        *                        \n",
            "               +-----------------+               \n",
            "               | StrOutputParser |               \n",
            "               +-----------------+               \n",
            "                        *                        \n",
            "                        *                        \n",
            "                        *                        \n",
            "       +---------------------------------+       \n",
            "       | Parallel<joke,explanation>Input |       \n",
            "       +---------------------------------+       \n",
            "                ***            ***               \n",
            "              **                  ***            \n",
            "            **                       **          \n",
            "+----------------+                     **        \n",
            "| PromptTemplate |                      *        \n",
            "+----------------+                      *        \n",
            "          *                             *        \n",
            "          *                             *        \n",
            "          *                             *        \n",
            "    +----------+                        *        \n",
            "    | ChatGroq |                        *        \n",
            "    +----------+                        *        \n",
            "          *                             *        \n",
            "          *                             *        \n",
            "          *                             *        \n",
            "+-----------------+             +-------------+  \n",
            "| StrOutputParser |             | Passthrough |  \n",
            "+-----------------+             +-------------+  \n",
            "                ***            ***               \n",
            "                   **        **                  \n",
            "                     **    **                    \n",
            "      +----------------------------------+       \n",
            "      | Parallel<joke,explanation>Output |       \n",
            "      +----------------------------------+       \n"
          ]
        }
      ]
    },
    {
      "cell_type": "code",
      "source": [
        "!pip install grandalf"
      ],
      "metadata": {
        "colab": {
          "base_uri": "https://localhost:8080/"
        },
        "id": "uY-jySgN9eBc",
        "outputId": "761ec241-bfe9-44fa-839d-a1ca413b948e"
      },
      "execution_count": 15,
      "outputs": [
        {
          "output_type": "stream",
          "name": "stdout",
          "text": [
            "Collecting grandalf\n",
            "  Downloading grandalf-0.8-py3-none-any.whl.metadata (1.7 kB)\n",
            "Requirement already satisfied: pyparsing in /usr/local/lib/python3.11/dist-packages (from grandalf) (3.2.3)\n",
            "Downloading grandalf-0.8-py3-none-any.whl (41 kB)\n",
            "\u001b[?25l   \u001b[90m━━━━━━━━━━━━━━━━━━━━━━━━━━━━━━━━━━━━━━━━\u001b[0m \u001b[32m0.0/41.8 kB\u001b[0m \u001b[31m?\u001b[0m eta \u001b[36m-:--:--\u001b[0m\r\u001b[2K   \u001b[90m━━━━━━━━━━━━━━━━━━━━━━━━━━━━━━━━━━━━━━━━\u001b[0m \u001b[32m41.8/41.8 kB\u001b[0m \u001b[31m3.4 MB/s\u001b[0m eta \u001b[36m0:00:00\u001b[0m\n",
            "\u001b[?25hInstalling collected packages: grandalf\n",
            "Successfully installed grandalf-0.8\n"
          ]
        }
      ]
    },
    {
      "cell_type": "code",
      "source": [],
      "metadata": {
        "id": "XIaJ9Jw29itX"
      },
      "execution_count": 18,
      "outputs": []
    },
    {
      "cell_type": "code",
      "source": [],
      "metadata": {
        "id": "UBHKfr4t915t"
      },
      "execution_count": null,
      "outputs": []
    }
  ]
}