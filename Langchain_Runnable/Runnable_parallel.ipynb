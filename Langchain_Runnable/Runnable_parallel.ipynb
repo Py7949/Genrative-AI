{
  "nbformat": 4,
  "nbformat_minor": 0,
  "metadata": {
    "colab": {
      "provenance": []
    },
    "kernelspec": {
      "name": "python3",
      "display_name": "Python 3"
    },
    "language_info": {
      "name": "python"
    }
  },
  "cells": [
    {
      "cell_type": "code",
      "source": [
        "\n",
        "from langchain_groq import ChatGroq\n",
        "from langchain.prompts import PromptTemplate\n",
        "from langchain_core.output_parsers import StrOutputParser\n",
        "from langchain.schema.runnable import RunnableSequence, RunnableParallel\n",
        "\n"
      ],
      "metadata": {
        "id": "76ezUDi96Bkd"
      },
      "execution_count": 44,
      "outputs": []
    },
    {
      "cell_type": "code",
      "source": [
        "prompt1 = PromptTemplate(\n",
        "    template='Generate a tweet about {topic}',\n",
        "    input_variables=['topic']\n",
        ")\n"
      ],
      "metadata": {
        "id": "B3uPXKj97B-e"
      },
      "execution_count": 45,
      "outputs": []
    },
    {
      "cell_type": "code",
      "source": [
        "prompt2 = PromptTemplate(\n",
        "    template='Generate a Linkedin post about {topic}',\n",
        "    input_variables=['topic']\n",
        ")"
      ],
      "metadata": {
        "id": "vHMaG9tC8vx3"
      },
      "execution_count": 46,
      "outputs": []
    },
    {
      "cell_type": "code",
      "source": [
        "llm = ChatGroq(\n",
        "     groq_api_key=\"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\",\n",
        "     model=\"llama3-8b-8192\"\n",
        "\n",
        ")"
      ],
      "metadata": {
        "id": "6ShOi8Vh8dNO"
      },
      "execution_count": 47,
      "outputs": []
    },
    {
      "cell_type": "code",
      "source": [
        "parser = StrOutputParser()"
      ],
      "metadata": {
        "id": "dwPhX8c_89Qq"
      },
      "execution_count": 48,
      "outputs": []
    },
    {
      "cell_type": "code",
      "source": [
        "parallel_chain = RunnableParallel({\n",
        "    'tweet': RunnableSequence(prompt1, llm, parser),\n",
        "    'linkedin': RunnableSequence(prompt2, llm, parser)\n",
        "})\n",
        ""
      ],
      "metadata": {
        "id": "AYyK2pU7EvXM"
      },
      "execution_count": 51,
      "outputs": []
    },
    {
      "cell_type": "code",
      "source": [
        "result = parallel_chain.invoke({'topic':'AI'})\n"
      ],
      "metadata": {
        "id": "ZUpakUMUFy2e"
      },
      "execution_count": 52,
      "outputs": []
    },
    {
      "cell_type": "code",
      "source": [
        "print(result['tweet'])\n",
        "print(result['linkedin'])"
      ],
      "metadata": {
        "colab": {
          "base_uri": "https://localhost:8080/"
        },
        "id": "NrKk8ZwE9O5m",
        "outputId": "8f378bbe-ab42-47f0-a847-879496dfbb58"
      },
      "execution_count": 54,
      "outputs": [
        {
          "output_type": "stream",
          "name": "stdout",
          "text": [
            "\"Artificial Intelligence is revolutionizing the world! From smart homes to self-driving cars, AI is changing the way we live and work. What do you think is the most exciting AI innovation of the future? #AI #Technology #Innovation\"\n",
            "Here's a sample LinkedIn post about AI:\n",
            "\n",
            "**Title:** \"The Future is Here: How AI is Transforming the Way We Work\"\n",
            "\n",
            "**Text:**\n",
            "\n",
            "As we continue to navigate the ever-changing landscape of technology, it's hard to ignore the impact that Artificial Intelligence (AI) is having on our daily lives. From automating tasks to enhancing decision making, AI is revolutionizing the way we work, interact, and live.\n",
            "\n",
            "Did you know that:\n",
            "\n",
            "AI-powered chatbots are already helping businesses improve customer service and reduce response times by up to 80%?\n",
            "\n",
            "AI-driven analytics are enabling companies to make data-driven decisions, leading to increased efficiency and reduced costs?\n",
            "\n",
            "AI-powered tools are empowering professionals to work smarter, not harder, by automating repetitive tasks and freeing up time for more strategic work?\n",
            "\n",
            "The benefits of AI are undeniable, and yet, there's still so much to be explored. As AI continues to evolve, we can expect to see even more innovative applications in industries like healthcare, finance, and education.\n",
            "\n",
            "So, what does this mean for you? Whether you're a business leader, a startup founder, or an individual looking to upskill, AI presents a unique opportunity to:\n",
            "\n",
            "Stay ahead of the curve and drive business growth\n",
            "\n",
            "Enhance your skills and stay competitive in the job market\n",
            "\n",
            "Improve efficiency and productivity in your work\n",
            "\n",
            "As we move forward in this AI-driven world, I'd love to hear from you: How do you think AI will impact your industry or profession? Share your thoughts and let's start a conversation!\n",
            "\n",
            "**Hashtags:** #AI #MachineLearning #ArtificialIntelligence #FutureOfWork #Innovation #Business #Technology\n"
          ]
        }
      ]
    },
    {
      "cell_type": "code",
      "source": [],
      "metadata": {
        "id": "TH00wZItFxrQ"
      },
      "execution_count": null,
      "outputs": []
    },
    {
      "cell_type": "code",
      "source": [
        "parallel_chain.get_graph().print_ascii()"
      ],
      "metadata": {
        "colab": {
          "base_uri": "https://localhost:8080/"
        },
        "id": "KjmTK7Sv9Vty",
        "outputId": "93d7ed2a-67c1-4ad4-a773-8ae0348d483b"
      },
      "execution_count": 55,
      "outputs": [
        {
          "output_type": "stream",
          "name": "stdout",
          "text": [
            "        +-------------------------------+          \n",
            "        | Parallel<tweet,linkedin>Input |          \n",
            "        +-------------------------------+          \n",
            "                ***             ***                \n",
            "              **                   **              \n",
            "            **                       **            \n",
            "+----------------+              +----------------+ \n",
            "| PromptTemplate |              | PromptTemplate | \n",
            "+----------------+              +----------------+ \n",
            "          *                             *          \n",
            "          *                             *          \n",
            "          *                             *          \n",
            "    +----------+                  +----------+     \n",
            "    | ChatGroq |                  | ChatGroq |     \n",
            "    +----------+                  +----------+     \n",
            "          *                             *          \n",
            "          *                             *          \n",
            "          *                             *          \n",
            "+-----------------+            +-----------------+ \n",
            "| StrOutputParser |            | StrOutputParser | \n",
            "+-----------------+            +-----------------+ \n",
            "                ***             ***                \n",
            "                   **         **                   \n",
            "                     **     **                     \n",
            "        +--------------------------------+         \n",
            "        | Parallel<tweet,linkedin>Output |         \n",
            "        +--------------------------------+         \n"
          ]
        }
      ]
    },
    {
      "cell_type": "code",
      "source": [
        "!pip install grandalf"
      ],
      "metadata": {
        "colab": {
          "base_uri": "https://localhost:8080/"
        },
        "id": "uY-jySgN9eBc",
        "outputId": "761ec241-bfe9-44fa-839d-a1ca413b948e"
      },
      "execution_count": 15,
      "outputs": [
        {
          "output_type": "stream",
          "name": "stdout",
          "text": [
            "Collecting grandalf\n",
            "  Downloading grandalf-0.8-py3-none-any.whl.metadata (1.7 kB)\n",
            "Requirement already satisfied: pyparsing in /usr/local/lib/python3.11/dist-packages (from grandalf) (3.2.3)\n",
            "Downloading grandalf-0.8-py3-none-any.whl (41 kB)\n",
            "\u001b[?25l   \u001b[90m━━━━━━━━━━━━━━━━━━━━━━━━━━━━━━━━━━━━━━━━\u001b[0m \u001b[32m0.0/41.8 kB\u001b[0m \u001b[31m?\u001b[0m eta \u001b[36m-:--:--\u001b[0m\r\u001b[2K   \u001b[90m━━━━━━━━━━━━━━━━━━━━━━━━━━━━━━━━━━━━━━━━\u001b[0m \u001b[32m41.8/41.8 kB\u001b[0m \u001b[31m3.4 MB/s\u001b[0m eta \u001b[36m0:00:00\u001b[0m\n",
            "\u001b[?25hInstalling collected packages: grandalf\n",
            "Successfully installed grandalf-0.8\n"
          ]
        }
      ]
    },
    {
      "cell_type": "code",
      "source": [],
      "metadata": {
        "id": "XIaJ9Jw29itX"
      },
      "execution_count": 18,
      "outputs": []
    },
    {
      "cell_type": "code",
      "source": [],
      "metadata": {
        "id": "UBHKfr4t915t"
      },
      "execution_count": null,
      "outputs": []
    }
  ]
}