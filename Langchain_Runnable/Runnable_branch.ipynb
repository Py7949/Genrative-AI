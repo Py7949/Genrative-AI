{
  "nbformat": 4,
  "nbformat_minor": 0,
  "metadata": {
    "colab": {
      "provenance": []
    },
    "kernelspec": {
      "name": "python3",
      "display_name": "Python 3"
    },
    "language_info": {
      "name": "python"
    }
  },
  "cells": [
    {
      "cell_type": "code",
      "source": [
        "\n",
        "from langchain_groq import ChatGroq\n",
        "from langchain.prompts import PromptTemplate\n",
        "from langchain_core.output_parsers import StrOutputParser\n",
        "from langchain.schema.runnable import RunnableSequence, RunnableParallel, RunnablePassthrough, RunnableBranch\n",
        "\n"
      ],
      "metadata": {
        "id": "76ezUDi96Bkd"
      },
      "execution_count": 14,
      "outputs": []
    },
    {
      "cell_type": "code",
      "source": [
        "prompt1 = PromptTemplate(\n",
        "    template='Write a detailed report on {topic}',\n",
        "    input_variables=['topic']\n",
        ")"
      ],
      "metadata": {
        "id": "B3uPXKj97B-e"
      },
      "execution_count": 15,
      "outputs": []
    },
    {
      "cell_type": "code",
      "source": [
        "prompt2 = PromptTemplate(\n",
        "    template='Summarize the following text \\n {text}',\n",
        "    input_variables=['text']\n",
        ")\n"
      ],
      "metadata": {
        "id": "vHMaG9tC8vx3"
      },
      "execution_count": 16,
      "outputs": []
    },
    {
      "cell_type": "code",
      "source": [
        "llm = ChatGroq(\n",
        "     groq_api_key=\"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\",\n",
        "     model=\"llama3-8b-8192\"\n",
        "\n",
        ")"
      ],
      "metadata": {
        "id": "6ShOi8Vh8dNO"
      },
      "execution_count": 17,
      "outputs": []
    },
    {
      "cell_type": "code",
      "source": [
        "parser = StrOutputParser()"
      ],
      "metadata": {
        "id": "dwPhX8c_89Qq"
      },
      "execution_count": 18,
      "outputs": []
    },
    {
      "cell_type": "code",
      "source": [
        "report_gen_chain = prompt1 | llm | parser"
      ],
      "metadata": {
        "id": "HptJ8OJXAbGP"
      },
      "execution_count": 19,
      "outputs": []
    },
    {
      "cell_type": "code",
      "source": [
        "branch_chain = RunnableBranch(\n",
        "    (lambda x: len(x.split())>300, prompt2 | llm | parser),\n",
        "    RunnablePassthrough()\n",
        ")"
      ],
      "metadata": {
        "id": "AYyK2pU7EvXM"
      },
      "execution_count": 21,
      "outputs": []
    },
    {
      "cell_type": "code",
      "source": [
        "final_chain = RunnableSequence(report_gen_chain, branch_chain)\n"
      ],
      "metadata": {
        "id": "5JR_ukgbAxli"
      },
      "execution_count": 22,
      "outputs": []
    },
    {
      "cell_type": "code",
      "source": [
        "print(final_chain.invoke({'topic':'Russia vs Ukraine'}))\n",
        "\n"
      ],
      "metadata": {
        "colab": {
          "base_uri": "https://localhost:8080/"
        },
        "id": "ZUpakUMUFy2e",
        "outputId": "29fd5eec-4945-4d19-f812-706e4d4aa30a"
      },
      "execution_count": 23,
      "outputs": [
        {
          "output_type": "stream",
          "name": "stdout",
          "text": [
            "The conflict between Russia and Ukraine is a complex and ongoing issue that has its roots in the country's history, politics, and territorial disputes. The conflict began in 2014 after Ukraine's independence from the Soviet Union and the ousting of pro-Russian President Viktor Yanukovych. Russia annexed Crimea and has since provided military support to pro-Russian separatists in eastern Ukraine, leading to thousands of deaths, injuries, and displaced persons.\n",
            "\n",
            "The key issues at play include territorial disputes, economic interests, and national identity. Ukraine seeks to join the European Union and NATO, which has led to tensions with Russia, while Russia seeks to maintain its influence and control over the region.\n",
            "\n",
            "The conflict has significant implications for regional stability, economic impact, global security, and international relations. The conflict has raised concerns about regional stability, led to significant economic losses for Ukraine, and has implications for global security. It has also had significant implications for international relations, with diplomatic efforts to resolve the conflict and maintain regional stability.\n",
            "\n",
            "Overall, the conflict between Russia and Ukraine is a complex and ongoing issue that requires a sustained and coordinated effort to resolve.\n"
          ]
        }
      ]
    },
    {
      "cell_type": "code",
      "source": [
        "final_chain.get_graph().print_ascii()"
      ],
      "metadata": {
        "colab": {
          "base_uri": "https://localhost:8080/"
        },
        "id": "KjmTK7Sv9Vty",
        "outputId": "895486bb-21ff-43ec-da55-79a61c91d4fb"
      },
      "execution_count": 26,
      "outputs": [
        {
          "output_type": "stream",
          "name": "stdout",
          "text": [
            "  +-------------+    \n",
            "  | PromptInput |    \n",
            "  +-------------+    \n",
            "          *          \n",
            "          *          \n",
            "          *          \n",
            "+----------------+   \n",
            "| PromptTemplate |   \n",
            "+----------------+   \n",
            "          *          \n",
            "          *          \n",
            "          *          \n",
            "    +----------+     \n",
            "    | ChatGroq |     \n",
            "    +----------+     \n",
            "          *          \n",
            "          *          \n",
            "          *          \n",
            "+-----------------+  \n",
            "| StrOutputParser |  \n",
            "+-----------------+  \n",
            "          *          \n",
            "          *          \n",
            "          *          \n",
            "    +--------+       \n",
            "    | Branch |       \n",
            "    +--------+       \n",
            "          *          \n",
            "          *          \n",
            "          *          \n",
            "  +--------------+   \n",
            "  | BranchOutput |   \n",
            "  +--------------+   \n"
          ]
        }
      ]
    },
    {
      "cell_type": "code",
      "source": [
        "!pip install grandalf"
      ],
      "metadata": {
        "colab": {
          "base_uri": "https://localhost:8080/"
        },
        "id": "uY-jySgN9eBc",
        "outputId": "858691ad-7472-4f71-bf15-f0a5b0bf9164"
      },
      "execution_count": 25,
      "outputs": [
        {
          "output_type": "stream",
          "name": "stdout",
          "text": [
            "Collecting grandalf\n",
            "  Downloading grandalf-0.8-py3-none-any.whl.metadata (1.7 kB)\n",
            "Requirement already satisfied: pyparsing in /usr/local/lib/python3.11/dist-packages (from grandalf) (3.2.3)\n",
            "Downloading grandalf-0.8-py3-none-any.whl (41 kB)\n",
            "\u001b[?25l   \u001b[90m━━━━━━━━━━━━━━━━━━━━━━━━━━━━━━━━━━━━━━━━\u001b[0m \u001b[32m0.0/41.8 kB\u001b[0m \u001b[31m?\u001b[0m eta \u001b[36m-:--:--\u001b[0m\r\u001b[2K   \u001b[90m━━━━━━━━━━━━━━━━━━━━━━━━━━━━━━━━━━━━━━━━\u001b[0m \u001b[32m41.8/41.8 kB\u001b[0m \u001b[31m2.2 MB/s\u001b[0m eta \u001b[36m0:00:00\u001b[0m\n",
            "\u001b[?25hInstalling collected packages: grandalf\n",
            "Successfully installed grandalf-0.8\n"
          ]
        }
      ]
    },
    {
      "cell_type": "code",
      "source": [],
      "metadata": {
        "id": "XIaJ9Jw29itX"
      },
      "execution_count": 18,
      "outputs": []
    },
    {
      "cell_type": "code",
      "source": [],
      "metadata": {
        "id": "UBHKfr4t915t"
      },
      "execution_count": null,
      "outputs": []
    }
  ]
}