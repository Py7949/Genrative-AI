{
  "nbformat": 4,
  "nbformat_minor": 0,
  "metadata": {
    "colab": {
      "provenance": []
    },
    "kernelspec": {
      "name": "python3",
      "display_name": "Python 3"
    },
    "language_info": {
      "name": "python"
    }
  },
  "cells": [
    {
      "cell_type": "code",
      "execution_count": 3,
      "metadata": {
        "id": "NmfqyrkIxp8M"
      },
      "outputs": [],
      "source": [
        "from langchain_groq import ChatGroq\n",
        "from langchain.prompts import PromptTemplate\n",
        "from langchain_core.output_parsers import StrOutputParser"
      ]
    },
    {
      "cell_type": "code",
      "source": [
        "llm = ChatGroq(\n",
        "    groq_api_key=\"gsk\",\n",
        "    model=\"llama3-8b-8192\",\n",
        "    verbose=True\n",
        ")"
      ],
      "metadata": {
        "id": "c4WYYZ0qyPva"
      },
      "execution_count": 10,
      "outputs": []
    },
    {
      "cell_type": "code",
      "source": [
        "template1 = PromptTemplate(\n",
        "    template='Write a detailed report on {topic}',\n",
        "    input_variables=[\"topic\"]\n",
        ")\n"
      ],
      "metadata": {
        "id": "k5Kbgyi_2dC2"
      },
      "execution_count": 5,
      "outputs": []
    },
    {
      "cell_type": "code",
      "source": [
        "template2 = PromptTemplate(\n",
        "    template = \"Write a 5 line summary on the following text. /n {text}\",\n",
        "    input_variables=[\"text\"]\n",
        ")"
      ],
      "metadata": {
        "id": "dOGkLBe03LtW"
      },
      "execution_count": 6,
      "outputs": []
    },
    {
      "cell_type": "code",
      "source": [
        "parser = StrOutputParser()"
      ],
      "metadata": {
        "id": "36vgL4W53vcS"
      },
      "execution_count": 7,
      "outputs": []
    },
    {
      "cell_type": "code",
      "source": [
        "prompt1 = template1.invoke({'topic':'black hole'})\n",
        "\n",
        "result = llm.invoke(prompt1)"
      ],
      "metadata": {
        "id": "JtYmKMA56UzK"
      },
      "execution_count": 12,
      "outputs": []
    },
    {
      "cell_type": "code",
      "source": [
        "prompt2 = template2.invoke({'text':result.content})\n",
        "\n",
        "result1 = llm.invoke(prompt2)\n",
        "\n",
        "\n"
      ],
      "metadata": {
        "id": "e3YxS60m4PgU"
      },
      "execution_count": 13,
      "outputs": []
    },
    {
      "cell_type": "code",
      "source": [
        "print(result1.content)"
      ],
      "metadata": {
        "id": "NabKqlR_4guS",
        "colab": {
          "base_uri": "https://localhost:8080/"
        },
        "outputId": "36da209f-73c7-4b5a-90a3-2f13b65711c7"
      },
      "execution_count": 14,
      "outputs": [
        {
          "output_type": "stream",
          "name": "stdout",
          "text": [
            "Here is a 5-line summary of the text:\n",
            "\n",
            "A black hole is a region in space where gravity is so strong that nothing, including light, can escape. It is formed when a massive star collapses in on itself, creating an incredibly strong gravitational field that warps spacetime. Black holes have several key properties, including mass, spin, charge, and entropy, and can have different types, such as stellar, intermediate-mass, supermassive, and primordial. They are difficult to detect directly, but their presence can be inferred by their effects on the surrounding environment. The study of black holes has significant implications for our understanding of the universe, including connections to quantum mechanics, general relativity, and cosmology.\n"
          ]
        }
      ]
    },
    {
      "cell_type": "code",
      "source": [],
      "metadata": {
        "id": "MnBuej7jOqre"
      },
      "execution_count": null,
      "outputs": []
    }
  ]
}