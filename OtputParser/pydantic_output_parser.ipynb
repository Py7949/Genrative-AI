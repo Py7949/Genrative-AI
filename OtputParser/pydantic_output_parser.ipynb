{
  "cells": [
    {
      "cell_type": "code",
      "execution_count": 2,
      "metadata": {
        "id": "Og7PyrILKXFj"
      },
      "outputs": [],
      "source": [
        "\n",
        "from langchain_groq import ChatGroq\n",
        "from langchain.prompts import PromptTemplate\n",
        "from pydantic import BaseModel, Field\n",
        "from langchain.output_parsers import PydanticOutputParser\n"
      ]
    },
    {
      "cell_type": "code",
      "execution_count": 3,
      "metadata": {
        "id": "esum39_nSydf"
      },
      "outputs": [],
      "source": [
        "llm = ChatGroq(\n",
        "    groq_api_key=\"gsk\",\n",
        "    model=\"llama3-8b-8192\",\n",
        "    verbose=True\n",
        ")"
      ]
    },
    {
      "cell_type": "code",
      "execution_count": 4,
      "metadata": {
        "id": "nwWTAaQ8Lz-E"
      },
      "outputs": [],
      "source": [
        "class Person(BaseModel):\n",
        "    name: str = Field(description='Name of the person')\n",
        "    age: int = Field(gt=18, description='Age of the person')\n",
        "    city: str = Field(description='Name of the city the person belongs to')\n",
        "\n",
        "parser = PydanticOutputParser(pydantic_object=Person)\n"
      ]
    },
    {
      "cell_type": "code",
      "execution_count": 5,
      "metadata": {
        "id": "P8qvgHVIMdPk"
      },
      "outputs": [],
      "source": [
        "template = PromptTemplate(\n",
        "    template='Generate the name, age and city of a fictional {place} person \\n {format_instruction}',\n",
        "    input_variables=['place'],\n",
        "    partial_variables={'format_instruction':parser.get_format_instructions()}\n",
        ")"
      ]
    },
    {
      "cell_type": "code",
      "execution_count": 6,
      "metadata": {
        "id": "qlL0aNeWNJyl"
      },
      "outputs": [],
      "source": [
        "chain = template | llm | parser\n"
      ]
    },
    {
      "cell_type": "code",
      "source": [
        "intermediate_output = (template | llm).invoke({\"place\": \"Sri Lankan\"})\n",
        "print(intermediate_output)\n"
      ],
      "metadata": {
        "colab": {
          "base_uri": "https://localhost:8080/"
        },
        "id": "1ekeNROzViCR",
        "outputId": "36e4355d-26a3-4f92-ca39-7ed036d6b90d"
      },
      "execution_count": 7,
      "outputs": [
        {
          "output_type": "stream",
          "name": "stdout",
          "text": [
            "content='Here is a well-formatted instance of the schema:\\n\\n```\\n{\\n  \"name\": \"Rukshan Perera\",\\n  \"age\": 32,\\n  \"city\": \"Colombo\"\\n}\\n```\\n\\nThis JSON object conforms to the schema you provided, with the name being a string, age being an integer greater than or equal to 18, and city being a string. All three properties are also required, as specified in the schema.' additional_kwargs={} response_metadata={'token_usage': {'completion_tokens': 92, 'prompt_tokens': 242, 'total_tokens': 334, 'completion_time': 0.094251242, 'prompt_time': 0.062187309, 'queue_time': 0.20815891300000003, 'total_time': 0.156438551}, 'model_name': 'llama3-8b-8192', 'system_fingerprint': 'fp_0fb809dba3', 'service_tier': 'on_demand', 'finish_reason': 'stop', 'logprobs': None} id='run--870dde0f-3aa3-4fd8-9ca6-c5b14f7be88d-0' usage_metadata={'input_tokens': 242, 'output_tokens': 92, 'total_tokens': 334}\n"
          ]
        }
      ]
    },
    {
      "cell_type": "code",
      "execution_count": 8,
      "metadata": {
        "colab": {
          "base_uri": "https://localhost:8080/"
        },
        "id": "1HCDgl9gNZOc",
        "outputId": "db8635cd-6e09-412f-ceca-d4e8fa77ef26"
      },
      "outputs": [
        {
          "output_type": "stream",
          "name": "stdout",
          "text": [
            "name='Rajitha Fernando' age=32 city='Colombo'\n"
          ]
        }
      ],
      "source": [
        "final_result = chain.invoke({'place':'sri lankan'})\n",
        "\n",
        "print(final_result)"
      ]
    },
    {
      "cell_type": "code",
      "execution_count": null,
      "metadata": {
        "id": "-EEjLkxvNcMj"
      },
      "outputs": [],
      "source": [
        "\n"
      ]
    }
  ],
  "metadata": {
    "colab": {
      "provenance": []
    },
    "kernelspec": {
      "display_name": "Python 3",
      "name": "python3"
    },
    "language_info": {
      "name": "python"
    }
  },
  "nbformat": 4,
  "nbformat_minor": 0
}