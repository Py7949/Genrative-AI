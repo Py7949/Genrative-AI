{
  "nbformat": 4,
  "nbformat_minor": 0,
  "metadata": {
    "colab": {
      "provenance": []
    },
    "kernelspec": {
      "name": "python3",
      "display_name": "Python 3"
    },
    "language_info": {
      "name": "python"
    }
  },
  "cells": [
    {
      "cell_type": "code",
      "execution_count": 37,
      "metadata": {
        "id": "NmfqyrkIxp8M"
      },
      "outputs": [],
      "source": [
        "from langchain_groq import ChatGroq\n",
        "from langchain.prompts import PromptTemplate\n",
        "from langchain_core.output_parsers import JsonOutputParser"
      ]
    },
    {
      "cell_type": "code",
      "source": [
        "llm = ChatGroq(\n",
        "    groq_api_key=\"gsk\",\n",
        "    model=\"llama3-8b-8192\",\n",
        "    verbose=True\n",
        ")"
      ],
      "metadata": {
        "id": "c4WYYZ0qyPva"
      },
      "execution_count": 38,
      "outputs": []
    },
    {
      "cell_type": "code",
      "source": [
        "parser = JsonOutputParser()\n"
      ],
      "metadata": {
        "id": "MAJOfD8TRPiu"
      },
      "execution_count": 39,
      "outputs": []
    },
    {
      "cell_type": "code",
      "source": [
        "template = PromptTemplate(\n",
        "    template=(\n",
        "        \"You're a scientific assistant. I'm researching the topic: {topic}.\\n\"\n",
        "        \"Please provide exactly 5 fascinating, well-explained facts about it.\\n\"\n",
        "        \"Make sure the output follows this format:\\n\"\n",
        "        \"{format_instruction}\"\n",
        "    ),\n",
        "    input_variables=[\"topic\"],\n",
        "    partial_variables={\"format_instruction\": parser.get_format_instructions()}\n",
        ")"
      ],
      "metadata": {
        "id": "k5Kbgyi_2dC2"
      },
      "execution_count": 40,
      "outputs": []
    },
    {
      "cell_type": "code",
      "source": [],
      "metadata": {
        "id": "36vgL4W53vcS"
      },
      "execution_count": 40,
      "outputs": []
    },
    {
      "cell_type": "code",
      "source": [
        "chain = template | llm | parser"
      ],
      "metadata": {
        "id": "l3yzNf81QYOl"
      },
      "execution_count": 43,
      "outputs": []
    },
    {
      "cell_type": "code",
      "source": [
        "result = chain.invoke({\"topic\": \"black hole\"})\n",
        "print(result)"
      ],
      "metadata": {
        "colab": {
          "base_uri": "https://localhost:8080/"
        },
        "id": "UEi5hEyoQsnW",
        "outputId": "0f741207-d0b2-4c37-b4b7-091d3f34cebf"
      },
      "execution_count": 44,
      "outputs": [
        {
          "output_type": "stream",
          "name": "stdout",
          "text": [
            "{'fact1': {'title': 'What is a Black Hole?', 'text': 'A black hole is a region in space where the gravitational pull is so strong that nothing, including light, can escape. It is formed when a massive star collapses in on itself and its gravity becomes so strong that it warps the fabric of spacetime.'}, 'fact2': {'title': 'The Event Horizon', 'text': \"The event horizon is the point of no return around a black hole. Once something crosses the event horizon, it is trapped by the black hole's gravity and cannot escape. The event horizon is not a physical boundary but rather a mathematical concept that marks the point where the gravitational pull becomes so strong that escape is impossible.\"}, 'fact3': {'title': 'Singularity', 'text': \"At the center of a black hole lies a singularity, a point of infinite density and zero volume. The laws of physics as we know them break down at the singularity, making it a region of spacetime that is not well understood. The singularity is thought to be the result of the extreme gravitational compression of the star's matter.\"}, 'fact4': {'title': 'Hawking Radiation', 'text': 'In the 1970s, physicist Stephen Hawking proposed that black holes emit radiation, now known as Hawking radiation. This theory suggests that black holes have a temperature and entropy, and that they slowly lose mass over time due to this radiation. Hawking radiation is a result of virtual particles that exist in the quantum vacuum near the event horizon.'}, 'fact5': {'title': 'Black Hole Collisions', 'text': 'In recent years, scientists have detected gravitational waves produced by the collisions of black holes. These collisions result in the merger of two black holes, which releases a massive amount of energy in the form of gravitational waves. The detection of these waves has confirmed a key prediction made by Einstein a century ago and has opened up a new field of astronomy that allows us to study cosmic events in ways previously impossible.'}}\n"
          ]
        }
      ]
    },
    {
      "cell_type": "code",
      "source": [],
      "metadata": {
        "id": "NabKqlR_4guS"
      },
      "execution_count": 46,
      "outputs": []
    },
    {
      "cell_type": "code",
      "source": [],
      "metadata": {
        "id": "MnBuej7jOqre"
      },
      "execution_count": null,
      "outputs": []
    }
  ]
}