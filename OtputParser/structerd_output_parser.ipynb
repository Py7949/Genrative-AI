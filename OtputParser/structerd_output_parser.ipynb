{
  "nbformat": 4,
  "nbformat_minor": 0,
  "metadata": {
    "colab": {
      "provenance": []
    },
    "kernelspec": {
      "name": "python3",
      "display_name": "Python 3"
    },
    "language_info": {
      "name": "python"
    }
  },
  "cells": [
    {
      "cell_type": "code",
      "source": [
        "from langchain_groq import ChatGroq\n",
        "from langchain.prompts import PromptTemplate\n",
        "from langchain.output_parsers import StructuredOutputParser, ResponseSchema\n"
      ],
      "metadata": {
        "id": "gsOIKYY29uYT"
      },
      "execution_count": 3,
      "outputs": []
    },
    {
      "cell_type": "code",
      "source": [
        "llm = ChatGroq(\n",
        "    groq_api_key=\"gsk\",\n",
        "    model=\"llama3-8b-8192\",\n",
        "    verbose=True\n",
        ")"
      ],
      "metadata": {
        "id": "cXRSwIMFHqE0"
      },
      "execution_count": 12,
      "outputs": []
    },
    {
      "cell_type": "code",
      "source": [
        "schema = [\n",
        "     ResponseSchema(name=\"name\", description=\"Full name\"),\n",
        "     ResponseSchema(name=\"age\", description=\"Estimated age\"),\n",
        "     ResponseSchema(name=\"bio\", description=\"Short biography\")\n",
        "    ]"
      ],
      "metadata": {
        "id": "6py7FcfgCWu-"
      },
      "execution_count": 13,
      "outputs": []
    },
    {
      "cell_type": "code",
      "source": [
        "parser  = StructuredOutputParser.from_response_schemas(schema)"
      ],
      "metadata": {
        "id": "MizuqbGPEDSR"
      },
      "execution_count": 14,
      "outputs": []
    },
    {
      "cell_type": "code",
      "source": [
        "template = PromptTemplate(\n",
        "    template=\"Provide structured information about {person}.\\n{format_instructions}\",\n",
        "    input_variables=[\"person\"],\n",
        "    partial_variables={\"format_instructions\": parser.get_format_instructions()}\n",
        ")"
      ],
      "metadata": {
        "id": "vw49x6DCEbjo"
      },
      "execution_count": 15,
      "outputs": []
    },
    {
      "cell_type": "code",
      "source": [
        "chain = template | llm | parser"
      ],
      "metadata": {
        "id": "3KXJJFi8E-8C"
      },
      "execution_count": 16,
      "outputs": []
    },
    {
      "cell_type": "code",
      "source": [
        "result = chain.invoke({'person':'Albert Einstein'})"
      ],
      "metadata": {
        "id": "eVu_wtCVFFf8"
      },
      "execution_count": 17,
      "outputs": []
    },
    {
      "cell_type": "code",
      "source": [
        "print(result)"
      ],
      "metadata": {
        "id": "IsQBmkiGG0hq",
        "colab": {
          "base_uri": "https://localhost:8080/"
        },
        "outputId": "f937cd14-9d88-4e8c-c525-4bf93981fcad"
      },
      "execution_count": 18,
      "outputs": [
        {
          "output_type": "stream",
          "name": "stdout",
          "text": [
            "{'name': 'Albert Einstein', 'age': '76 years (1879-1955)', 'bio': 'German-born physicist who is widely regarded as one of the most influential scientists of the 20th century. He is best known for his theory of relativity and the famous equation E=mc². Einstein was a key figure in the development of quantum mechanics and was awarded the Nobel Prize in Physics in 1921.'}\n"
          ]
        }
      ]
    },
    {
      "cell_type": "code",
      "source": [],
      "metadata": {
        "id": "0zTLJQ1VP9Ed"
      },
      "execution_count": null,
      "outputs": []
    }
  ]
}