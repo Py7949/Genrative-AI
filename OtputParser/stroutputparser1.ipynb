{
  "nbformat": 4,
  "nbformat_minor": 0,
  "metadata": {
    "colab": {
      "provenance": []
    },
    "kernelspec": {
      "name": "python3",
      "display_name": "Python 3"
    },
    "language_info": {
      "name": "python"
    }
  },
  "cells": [
    {
      "cell_type": "code",
      "execution_count": 3,
      "metadata": {
        "id": "NmfqyrkIxp8M"
      },
      "outputs": [],
      "source": [
        "from langchain_groq import ChatGroq\n",
        "from langchain.prompts import PromptTemplate\n",
        "from langchain_core.output_parsers import StrOutputParser"
      ]
    },
    {
      "cell_type": "code",
      "source": [
        "llm = ChatGroq(\n",
        "    groq_api_key=\"gsk\",\n",
        "    model=\"llama3-8b-8192\",\n",
        "    verbose=True\n",
        ")"
      ],
      "metadata": {
        "id": "c4WYYZ0qyPva"
      },
      "execution_count": 4,
      "outputs": []
    },
    {
      "cell_type": "code",
      "source": [
        "template1 = PromptTemplate(\n",
        "    template='Write a detailed report on {topic}',\n",
        "    input_variables=[\"topic\"]\n",
        ")\n"
      ],
      "metadata": {
        "id": "k5Kbgyi_2dC2"
      },
      "execution_count": 5,
      "outputs": []
    },
    {
      "cell_type": "code",
      "source": [
        "template2 = PromptTemplate(\n",
        "    template = \"Write a 5 line summary on the following text. /n {text}\",\n",
        "    input_variables=[\"text\"]\n",
        ")"
      ],
      "metadata": {
        "id": "dOGkLBe03LtW"
      },
      "execution_count": 6,
      "outputs": []
    },
    {
      "cell_type": "code",
      "source": [
        "parser = StrOutputParser()"
      ],
      "metadata": {
        "id": "36vgL4W53vcS"
      },
      "execution_count": 7,
      "outputs": []
    },
    {
      "cell_type": "code",
      "source": [
        "chain = (template1 | llm | parser |\n",
        "         (lambda text: {'text':text}) |\n",
        "         template2 | llm | parser)"
      ],
      "metadata": {
        "id": "JtYmKMA56UzK"
      },
      "execution_count": 8,
      "outputs": []
    },
    {
      "cell_type": "code",
      "source": [
        "result = chain.invoke({\"topic\":\"blackhole\"})"
      ],
      "metadata": {
        "id": "e3YxS60m4PgU"
      },
      "execution_count": 9,
      "outputs": []
    },
    {
      "cell_type": "code",
      "source": [],
      "metadata": {
        "id": "NabKqlR_4guS"
      },
      "execution_count": null,
      "outputs": []
    }
  ]
}