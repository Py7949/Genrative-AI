{
  "nbformat": 4,
  "nbformat_minor": 0,
  "metadata": {
    "colab": {
      "provenance": []
    },
    "kernelspec": {
      "name": "python3",
      "display_name": "Python 3"
    },
    "language_info": {
      "name": "python"
    }
  },
  "cells": [
    {
      "cell_type": "markdown",
      "source": [
        "# Text_Srructure_Based\n"
      ],
      "metadata": {
        "id": "urxGZYFoM5ct"
      }
    },
    {
      "cell_type": "code",
      "execution_count": null,
      "metadata": {
        "id": "86e-QB4eKdwr"
      },
      "outputs": [],
      "source": [
        "from langchain.text_splitter import RecursiveCharacterTextSplitter"
      ]
    },
    {
      "cell_type": "code",
      "source": [
        "text = \"\"\"\n",
        "Space exploration has led to incredible scientific discoveries. From landing on the Moon to exploring Mars, humanity continues to push the boundaries of what’s possible beyond our planet.\n",
        "\n",
        "These missions have not only expanded our knowledge of the universe but have also contributed to advancements in technology here on Earth. Satellite communications, GPS, and even certain medical imaging techniques trace their roots back to innovations driven by space programs.\n",
        "\"\"\""
      ],
      "metadata": {
        "id": "8HR04YdTK1-8"
      },
      "execution_count": null,
      "outputs": []
    },
    {
      "cell_type": "code",
      "source": [
        "splitter = RecursiveCharacterTextSplitter(\n",
        "    chunk_size = 500,\n",
        "    chunk_overlap = 0\n",
        ")"
      ],
      "metadata": {
        "id": "zgw_7f4iLIzV"
      },
      "execution_count": null,
      "outputs": []
    },
    {
      "cell_type": "code",
      "source": [
        "chunks = splitter.split_text(text)"
      ],
      "metadata": {
        "id": "C8hwh_fOLa63"
      },
      "execution_count": null,
      "outputs": []
    },
    {
      "cell_type": "code",
      "source": [
        "print(len(chunks))"
      ],
      "metadata": {
        "colab": {
          "base_uri": "https://localhost:8080/"
        },
        "id": "I17sopAkLkM8",
        "outputId": "c428c7f2-0f6b-455e-946f-b2cc1b9f37fe"
      },
      "execution_count": null,
      "outputs": [
        {
          "output_type": "stream",
          "name": "stdout",
          "text": [
            "1\n"
          ]
        }
      ]
    },
    {
      "cell_type": "code",
      "source": [
        "print(chunks)"
      ],
      "metadata": {
        "colab": {
          "base_uri": "https://localhost:8080/"
        },
        "id": "UVUToYWKLml7",
        "outputId": "461ca92b-585f-4293-eae1-7b1a3f1c75e1"
      },
      "execution_count": null,
      "outputs": [
        {
          "output_type": "stream",
          "name": "stdout",
          "text": [
            "['Space exploration has led to incredible scientific discoveries. From landing on the Moon to exploring Mars, humanity continues to push the boundaries of what’s possible beyond our planet.\\n\\nThese missions have not only expanded our knowledge of the universe but have also contributed to advancements in technology here on Earth. Satellite communications, GPS, and even certain medical imaging techniques trace their roots back to innovations driven by space programs.']\n"
          ]
        }
      ]
    },
    {
      "cell_type": "code",
      "source": [],
      "metadata": {
        "id": "qgHhkYR_LqCP"
      },
      "execution_count": null,
      "outputs": []
    },
    {
      "cell_type": "markdown",
      "source": [
        "# length_Based_text splitting\n"
      ],
      "metadata": {
        "id": "hbsO_1q7NGOu"
      }
    },
    {
      "cell_type": "code",
      "source": [
        "from langchain.text_splitter import CharacterTextSplitter\n",
        "from langchain_community.document_loaders import PyPDFLoader"
      ],
      "metadata": {
        "id": "YH6wWxk5NLvR"
      },
      "execution_count": 11,
      "outputs": []
    },
    {
      "cell_type": "code",
      "metadata": {
        "id": "3dbf6a58"
      },
      "source": [
        "path = \"/content/dl-curriculum.pdf\"\n",
        "loader = PyPDFLoader(path)\n",
        "pages = loader.load()"
      ],
      "execution_count": 17,
      "outputs": []
    },
    {
      "cell_type": "code",
      "source": [
        "splitter = CharacterTextSplitter(\n",
        "    chunk_size = 200,\n",
        "    chunk_overlap = 0,\n",
        "    separator=\" \"\n",
        ")"
      ],
      "metadata": {
        "id": "v5aBvfUtOdq6"
      },
      "execution_count": 23,
      "outputs": []
    },
    {
      "cell_type": "code",
      "source": [
        "result = splitter.split_documents(pages)"
      ],
      "metadata": {
        "id": "6WcPzRgbOJjT"
      },
      "execution_count": 28,
      "outputs": []
    },
    {
      "cell_type": "code",
      "source": [
        "print(result[1].page_content)"
      ],
      "metadata": {
        "colab": {
          "base_uri": "https://localhost:8080/"
        },
        "id": "Iu8VLtDJO6Pf",
        "outputId": "f3591bd5-2529-4d72-c57d-19c0625d8073"
      },
      "execution_count": 29,
      "outputs": [
        {
          "output_type": "stream",
          "name": "stdout",
          "text": [
            "Howbiologicalconceptstranslatetoartificialneurons\n",
            "2.HistoryofNeuralNetworks\n",
            "● Earlymodels(Perceptron)● BackpropagationandMLPs● The\"AIWinter\"andresurgenceofneuralnetworks●\n"
          ]
        }
      ]
    },
    {
      "cell_type": "code",
      "source": [],
      "metadata": {
        "id": "jg7px9w3PG6a"
      },
      "execution_count": 27,
      "outputs": []
    },
    {
      "cell_type": "markdown",
      "source": [
        "#Python_code_splitting"
      ],
      "metadata": {
        "id": "d-b9VGqLakYS"
      }
    },
    {
      "cell_type": "code",
      "source": [
        "from langchain.text_splitter import RecursiveCharacterTextSplitter,Language"
      ],
      "metadata": {
        "id": "9mwkX__nPt3O"
      },
      "execution_count": 30,
      "outputs": []
    },
    {
      "cell_type": "code",
      "source": [
        "text = \"\"\"\n",
        "class Student:\n",
        "    def __init__(self, name, age, grade):\n",
        "        self.name = name\n",
        "        self.age = age\n",
        "        self.grade = grade  # Grade is a float (like 8.5 or 9.2)\n",
        "\n",
        "    def get_details(self):\n",
        "        return self.name\"\n",
        "\n",
        "    def is_passing(self):\n",
        "        return self.grade >= 6.0\n",
        "\n",
        "\n",
        "# Example usage\n",
        "student1 = Student(\"Aarav\", 20, 8.2)\n",
        "print(student1.get_details())\n",
        "\n",
        "if student1.is_passing():\n",
        "    print(\"The student is passing.\")\n",
        "else:\n",
        "    print(\"The student is not passing.\")\n",
        "\n",
        "\"\"\""
      ],
      "metadata": {
        "id": "70RVivPHauTX"
      },
      "execution_count": 31,
      "outputs": []
    },
    {
      "cell_type": "code",
      "source": [
        "splitter = RecursiveCharacterTextSplitter.from_language(\n",
        "    language=Language.PYTHON,\n",
        "    chunk_size=300,\n",
        "    chunk_overlap=0,\n",
        ")"
      ],
      "metadata": {
        "id": "CQxrcyhKa5Ad"
      },
      "execution_count": 32,
      "outputs": []
    },
    {
      "cell_type": "code",
      "source": [
        "chunks = splitter.split_text(text)\n",
        "\n",
        "print(len(chunks))\n",
        "print(chunks[1])"
      ],
      "metadata": {
        "colab": {
          "base_uri": "https://localhost:8080/"
        },
        "id": "_QqkHAd8a8Ur",
        "outputId": "696f2b37-4d85-4241-9e94-aa4b5afd35b0"
      },
      "execution_count": 33,
      "outputs": [
        {
          "output_type": "stream",
          "name": "stdout",
          "text": [
            "2\n",
            "# Example usage\n",
            "student1 = Student(\"Aarav\", 20, 8.2)\n",
            "print(student1.get_details())\n",
            "\n",
            "if student1.is_passing():\n",
            "    print(\"The student is passing.\")\n",
            "else:\n",
            "    print(\"The student is not passing.\")\n"
          ]
        }
      ]
    },
    {
      "cell_type": "code",
      "source": [],
      "metadata": {
        "id": "ljyKAIuna_Ec"
      },
      "execution_count": null,
      "outputs": []
    },
    {
      "cell_type": "markdown",
      "source": [
        "#Markdown_splitting"
      ],
      "metadata": {
        "id": "7EFyiTb7dLd7"
      }
    },
    {
      "cell_type": "code",
      "source": [
        "from langchain.text_splitter import RecursiveCharacterTextSplitter,Language"
      ],
      "metadata": {
        "id": "7TYbXlAZdGgl"
      },
      "execution_count": 55,
      "outputs": []
    },
    {
      "cell_type": "code",
      "source": [
        "text = \"\"\"\n",
        "# Project Name: Smart Student Tracker\n",
        "\n",
        "A simple Python-based project to manage and track student data, including their grades, age, and academic status.\n",
        "\n",
        "\n",
        "## Features\n",
        "\n",
        "- Add new students with relevant info\n",
        "- View student details\n",
        "- Check if a student is passing\n",
        "- Easily extendable class-based design\n",
        "\n",
        "\n",
        "## 🛠 Tech Stack\n",
        "\n",
        "- Python 3.10+\n",
        "- No external dependencies\n",
        "\n",
        "\n",
        "## Getting Started\n",
        "\n",
        "1. Clone the repo\n",
        "   ```bash\n",
        "   git clone https://github.com/your-username/student-tracker.git\n",
        "\n",
        "\"\"\""
      ],
      "metadata": {
        "id": "zScZuJrzdPS0"
      },
      "execution_count": 56,
      "outputs": []
    },
    {
      "cell_type": "code",
      "source": [
        "splitter = RecursiveCharacterTextSplitter.from_language(\n",
        "    language=Language.MARKDOWN,\n",
        "    chunk_size=200,\n",
        "    chunk_overlap=0,\n",
        ")"
      ],
      "metadata": {
        "id": "QRjRDGEagygK"
      },
      "execution_count": 57,
      "outputs": []
    },
    {
      "cell_type": "code",
      "source": [
        "chunks = splitter.split_text(text)\n",
        "\n",
        "print(len(chunks))\n",
        "print(chunks[0])"
      ],
      "metadata": {
        "colab": {
          "base_uri": "https://localhost:8080/"
        },
        "id": "ny6SQimJg3mp",
        "outputId": "957458d9-2297-466a-9d7b-5961d8a29a28"
      },
      "execution_count": 58,
      "outputs": [
        {
          "output_type": "stream",
          "name": "stdout",
          "text": [
            "3\n",
            "# Project Name: Smart Student Tracker\n",
            "\n",
            "A simple Python-based project to manage and track student data, including their grades, age, and academic status.\n"
          ]
        }
      ]
    },
    {
      "cell_type": "code",
      "source": [],
      "metadata": {
        "id": "VabFi14hg72e"
      },
      "execution_count": null,
      "outputs": []
    }
  ]
}