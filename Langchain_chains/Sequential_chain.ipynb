{
  "nbformat": 4,
  "nbformat_minor": 0,
  "metadata": {
    "colab": {
      "provenance": []
    },
    "kernelspec": {
      "name": "python3",
      "display_name": "Python 3"
    },
    "language_info": {
      "name": "python"
    }
  },
  "cells": [
    {
      "cell_type": "code",
      "source": [
        "from langchain_groq import ChatGroq\n",
        "from langchain.prompts import PromptTemplate\n",
        "from langchain_core.output_parsers import StrOutputParser"
      ],
      "metadata": {
        "id": "yQ1eD2IYpOph"
      },
      "execution_count": 96,
      "outputs": []
    },
    {
      "cell_type": "code",
      "source": [
        "llm = ChatGroq(\n",
        "    groq_api_key=\"\",\n",
        "     model=\"llama3-8b-8192\"\n",
        ")\n"
      ],
      "metadata": {
        "id": "0LLgtnI7qK_T"
      },
      "execution_count": 97,
      "outputs": []
    },
    {
      "cell_type": "code",
      "source": [
        "prompt1 = PromptTemplate(\n",
        "    input_variables=[\"topic\"],\n",
        "    template=\"Write a detailed report on the topic: {topic}\"\n",
        ")"
      ],
      "metadata": {
        "id": "A80JcE0SvbS2"
      },
      "execution_count": 107,
      "outputs": []
    },
    {
      "cell_type": "code",
      "source": [
        "prompt2 = PromptTemplate(\n",
        "    input_variables=[\"report\"],\n",
        "    template=\"Summarize the following report into 5 bullet points:\\n\\n{report}\"\n",
        ")"
      ],
      "metadata": {
        "id": "mihqxpIhE26U"
      },
      "execution_count": 106,
      "outputs": []
    },
    {
      "cell_type": "code",
      "source": [
        "parser = StrOutputParser()"
      ],
      "metadata": {
        "id": "VcZir_SrtqeM"
      },
      "execution_count": 71,
      "outputs": []
    },
    {
      "cell_type": "code",
      "source": [
        "chain = (\n",
        "    prompt1 | llm | parser |\n",
        "    (lambda report: {\"report\": report}) |\n",
        "    prompt2 | llm | parser\n",
        ")"
      ],
      "metadata": {
        "id": "xSq4feYRty_a"
      },
      "execution_count": 99,
      "outputs": []
    },
    {
      "cell_type": "code",
      "source": [
        "result = chain.invoke({'topic': 'Unemployment in India'})"
      ],
      "metadata": {
        "id": "tJ2xexH2uAbS"
      },
      "execution_count": 108,
      "outputs": []
    },
    {
      "cell_type": "code",
      "source": [
        "print(\"\\n=== 5-Point Summary ===\")\n",
        "print(result)\n"
      ],
      "metadata": {
        "colab": {
          "base_uri": "https://localhost:8080/"
        },
        "id": "hrQ1at-mBhSX",
        "outputId": "1a493eaa-92ee-4493-dd9a-983c9b964a0e"
      },
      "execution_count": 109,
      "outputs": [
        {
          "output_type": "stream",
          "name": "stdout",
          "text": [
            "\n",
            "=== 5-Point Summary ===\n",
            "**Unemployment in India: A Comprehensive Report**\n",
            "\n",
            "**Introduction**\n",
            "\n",
            "Unemployment is a significant social and economic issue in India, affecting millions of people across the country. Despite being the second-most populous country in the world, India faces a major challenge in providing employment opportunities to its vast youth population. This report provides an in-depth analysis of unemployment in India, highlighting its causes, consequences, and potential solutions.\n",
            "\n",
            "**Definition and Measurement**\n",
            "\n",
            "Unemployment in India is defined as the percentage of the labor force that is currently not working but is willing and able to work. The labor force is comprised of individuals aged 15-64 who are either employed or unemployed. The unemployment rate is calculated by dividing the number of unemployed individuals by the labor force and multiplying by 100.\n",
            "\n",
            "**National and International Trends**\n",
            "\n",
            "According to the International Labor Organization (ILO), India's unemployment rate was 3.5% in 2020, which is lower than the global average of 5.1%. However, the country's unemployment rate has been steadily increasing over the past few years, with a significant surge in 2019-2020.\n",
            "\n",
            "**Regional Disparities**\n",
            "\n",
            "Unemployment rates vary significantly across regions in India. The northern states of Uttar Pradesh, Bihar, and Madhya Pradesh have higher unemployment rates compared to the southern states of Tamil Nadu, Kerala, and Karnataka. The eastern states of Odisha, West Bengal, and Jharkhand also have higher unemployment rates.\n",
            "\n",
            "**Causes of Unemployment**\n",
            "\n",
            "Several factors contribute to unemployment in India, including:\n",
            "\n",
            "1. **Demographic Dividend**: India's large youth population is a significant contributor to unemployment. The country's working-age population is expected to increase from 761 million in 2020 to 953 million by 2025.\n",
            "2. **Lack of Skilled Workforce**: Many Indian graduates lack the skills required by industries, making it difficult for them to find employment.\n",
            "3. **Informal Sector**: A large portion of India's workforce is employed in the informal sector, which lacks formal employment benefits and social security.\n",
            "4. **Urbanization**: Rapid urbanization has led to a shortage of jobs in rural areas, forcing many to migrate to cities in search of employment.\n",
            "5. **Economic Slowdown**: India's economic slowdown in recent years has led to a decline in job creation, exacerbating the unemployment crisis.\n",
            "6. **Lack of Infrastructure**: Inadequate infrastructure, including roads, transportation, and healthcare, hinders the growth of industries and job creation.\n",
            "\n",
            "**Consequences of Unemployment**\n",
            "\n",
            "Unemployment has significant consequences for individuals, society, and the economy, including:\n",
            "\n",
            "1. **Poverty and Inequality**: Unemployment can lead to poverty and increased income inequality, as those who are unemployed are more likely to rely on others for support.\n",
            "2. **Social Unrest**: High unemployment rates can lead to social unrest, as individuals become increasingly frustrated with the lack of job opportunities.\n",
            "3. **Economic Growth**: Unemployment can hinder economic growth, as a large portion of the workforce is not contributing to the economy.\n",
            "4. **Health and Well-being**: Unemployment can have negative impacts on physical and mental health, including increased stress, anxiety, and depression.\n",
            "\n",
            "**Solutions to Unemployment**\n",
            "\n",
            "To address the issue of unemployment in India, several solutions can be implemented, including:\n",
            "\n",
            "1. **Skilling and Reskilling**: Governments and private institutions can provide training programs to equip individuals with the skills required by industries.\n",
            "2. **Entrepreneurship**: Encouraging entrepreneurship can create new job opportunities and reduce unemployment.\n",
            "3. **Infrastructure Development**: Investing in infrastructure development can create jobs and stimulate economic growth.\n",
            "4. **Labor Market Reforms**: Implementing labor market reforms can make it easier for businesses to hire and fire employees, increasing job creation.\n",
            "5. **Social Security**: Providing social security benefits to the unemployed can help alleviate poverty and reduce inequality.\n",
            "6. **Education**: Improving education systems can help individuals acquire the skills required by industries, reducing unemployment.\n",
            "\n",
            "**Conclusion**\n",
            "\n",
            "Unemployment is a significant challenge facing India, with far-reaching consequences for individuals, society, and the economy. To address this issue, it is essential to implement a range of solutions, including skilling and reskilling, entrepreneurship, infrastructure development, labor market reforms, social security, and education. By working together, governments, private institutions, and individuals can reduce unemployment and create a more prosperous future for all.\n"
          ]
        }
      ]
    },
    {
      "cell_type": "code",
      "source": [
        "\n",
        "chain.get_graph().print_ascii()"
      ],
      "metadata": {
        "colab": {
          "base_uri": "https://localhost:8080/"
        },
        "id": "hTo4vBhWBtY5",
        "outputId": "14167fb8-66dc-47fe-9365-db8b0575465d"
      },
      "execution_count": 110,
      "outputs": [
        {
          "output_type": "stream",
          "name": "stdout",
          "text": [
            "     +-------------+       \n",
            "     | PromptInput |       \n",
            "     +-------------+       \n",
            "            *              \n",
            "            *              \n",
            "            *              \n",
            "    +----------------+     \n",
            "    | PromptTemplate |     \n",
            "    +----------------+     \n",
            "            *              \n",
            "            *              \n",
            "            *              \n",
            "      +----------+         \n",
            "      | ChatGroq |         \n",
            "      +----------+         \n",
            "            *              \n",
            "            *              \n",
            "            *              \n",
            "   +-----------------+     \n",
            "   | StrOutputParser |     \n",
            "   +-----------------+     \n",
            "            *              \n",
            "            *              \n",
            "            *              \n",
            "+-----------------------+  \n",
            "| StrOutputParserOutput |  \n",
            "+-----------------------+  \n"
          ]
        }
      ]
    },
    {
      "cell_type": "code",
      "source": [
        "!pip install grandalf"
      ],
      "metadata": {
        "colab": {
          "base_uri": "https://localhost:8080/"
        },
        "id": "-nXYvIc3B1Zc",
        "outputId": "2044b7f8-a1e7-4077-f589-5ba8bbf1d952"
      },
      "execution_count": 104,
      "outputs": [
        {
          "output_type": "stream",
          "name": "stdout",
          "text": [
            "Collecting grandalf\n",
            "  Downloading grandalf-0.8-py3-none-any.whl.metadata (1.7 kB)\n",
            "Requirement already satisfied: pyparsing in /usr/local/lib/python3.11/dist-packages (from grandalf) (3.2.3)\n",
            "Downloading grandalf-0.8-py3-none-any.whl (41 kB)\n",
            "\u001b[?25l   \u001b[90m━━━━━━━━━━━━━━━━━━━━━━━━━━━━━━━━━━━━━━━━\u001b[0m \u001b[32m0.0/41.8 kB\u001b[0m \u001b[31m?\u001b[0m eta \u001b[36m-:--:--\u001b[0m\r\u001b[2K   \u001b[90m━━━━━━━━━━━━━━━━━━━━━━━━━━━━━━━━━━━━━━━━\u001b[0m \u001b[32m41.8/41.8 kB\u001b[0m \u001b[31m1.7 MB/s\u001b[0m eta \u001b[36m0:00:00\u001b[0m\n",
            "\u001b[?25hInstalling collected packages: grandalf\n",
            "Successfully installed grandalf-0.8\n"
          ]
        }
      ]
    },
    {
      "cell_type": "code",
      "source": [
        "from langchain.prompts import PromptTemplate\n",
        "from langchain_groq import ChatGroq\n",
        "from langchain.chains import SequentialChain, LLMChain"
      ],
      "metadata": {
        "id": "ZfAwYmc2uIQx"
      },
      "execution_count": 83,
      "outputs": []
    },
    {
      "cell_type": "code",
      "source": [
        "llm = ChatGroq(\n",
        "    groq_api_key=\"gsk\",\n",
        "    model=\"llama3-8b-8192\"\n",
        ")"
      ],
      "metadata": {
        "id": "vrsWdNtr5rc6"
      },
      "execution_count": 84,
      "outputs": []
    },
    {
      "cell_type": "code",
      "source": [
        "title_prompt = PromptTemplate(\n",
        "    input_variables=[\"topic\"],\n",
        "    template=\"Generate a catchy blog title about {topic}.\"\n",
        ")"
      ],
      "metadata": {
        "id": "3xHFQ9NF6OZV"
      },
      "execution_count": 85,
      "outputs": []
    },
    {
      "cell_type": "code",
      "source": [
        "title_chain = LLMChain(llm=llm, prompt=title_prompt, output_key=\"title\")"
      ],
      "metadata": {
        "colab": {
          "base_uri": "https://localhost:8080/"
        },
        "id": "uhovuBrw6bKU",
        "outputId": "318b0dfe-dd58-4984-9e4d-7e7356f088d3"
      },
      "execution_count": 86,
      "outputs": [
        {
          "output_type": "stream",
          "name": "stderr",
          "text": [
            "/tmp/ipython-input-1927993785.py:1: LangChainDeprecationWarning: The class `LLMChain` was deprecated in LangChain 0.1.17 and will be removed in 1.0. Use :meth:`~RunnableSequence, e.g., `prompt | llm`` instead.\n",
            "  title_chain = LLMChain(llm=llm, prompt=title_prompt, output_key=\"title\")\n"
          ]
        }
      ]
    },
    {
      "cell_type": "code",
      "source": [
        "outline_prompt = PromptTemplate(\n",
        "    input_variables=[\"title\"],\n",
        "    template=\"Create an outline for a blog titled: '{title}'.\"\n",
        ")"
      ],
      "metadata": {
        "id": "HhkIiQc27XZd"
      },
      "execution_count": 87,
      "outputs": []
    },
    {
      "cell_type": "code",
      "source": [
        "outline_chain = LLMChain(llm=llm, prompt=outline_prompt, output_key=\"outline\")"
      ],
      "metadata": {
        "id": "UdqA26Ea7odk"
      },
      "execution_count": 88,
      "outputs": []
    },
    {
      "cell_type": "code",
      "source": [
        "blog_prompt = PromptTemplate(\n",
        "    input_variables=[\"outline\"],\n",
        "    template=\"Write a detailed blog post using this outline:\\n\\n{outline}\"\n",
        ")"
      ],
      "metadata": {
        "id": "Clg5Xr0w7rZG"
      },
      "execution_count": 89,
      "outputs": []
    },
    {
      "cell_type": "code",
      "source": [
        "blog_chain = LLMChain(llm=llm, prompt=blog_prompt, output_key=\"blog\")"
      ],
      "metadata": {
        "id": "2nTZFyY_7u6B"
      },
      "execution_count": 90,
      "outputs": []
    },
    {
      "cell_type": "code",
      "source": [
        "overall_chain = SequentialChain(\n",
        "    chains=[title_chain, outline_chain, blog_chain],\n",
        "    input_variables=[\"topic\"],\n",
        "    output_variables=[\"title\", \"outline\", \"blog\"],\n",
        "    verbose=True\n",
        ")"
      ],
      "metadata": {
        "id": "whV4OTda7y4S"
      },
      "execution_count": 91,
      "outputs": []
    },
    {
      "cell_type": "code",
      "source": [
        "result = overall_chain.invoke({\"topic\": \"Artificial Intelligence in Education\"})"
      ],
      "metadata": {
        "colab": {
          "base_uri": "https://localhost:8080/"
        },
        "id": "RDq4WOep72r2",
        "outputId": "d07433cf-7ae9-4034-8860-af100de30d0b"
      },
      "execution_count": 92,
      "outputs": [
        {
          "output_type": "stream",
          "name": "stdout",
          "text": [
            "\n",
            "\n",
            "\u001b[1m> Entering new SequentialChain chain...\u001b[0m\n",
            "\n",
            "\u001b[1m> Finished chain.\u001b[0m\n"
          ]
        }
      ]
    },
    {
      "cell_type": "code",
      "source": [
        "print(\"\\n=== Blog Title ===\")\n",
        "print(result['title'])"
      ],
      "metadata": {
        "colab": {
          "base_uri": "https://localhost:8080/"
        },
        "id": "WClY3CGb76Yy",
        "outputId": "8ffe05cc-299f-49e2-dca6-26223b1d7049"
      },
      "execution_count": 93,
      "outputs": [
        {
          "output_type": "stream",
          "name": "stdout",
          "text": [
            "\n",
            "=== Blog Title ===\n",
            "Here are a few options:\n",
            "\n",
            "1. **\"The AI Revolution in Education: Teaching Tomorrow's Leaders Today\"**\n",
            "2. **\"Smart Learning: How Artificial Intelligence is Transforming the Classroom\"**\n",
            "3. **\"The Future of Education is AI-Powered: Trends, Benefits, and Best Practices\"**\n",
            "4. **\"From Bots to Brilliance: The Impact of Artificial Intelligence on Education\"**\n",
            "5. **\"AI in Education: Unlocking Personalized Learning, One Algorithm at a Time\"**\n",
            "6. **\"The Human Touch in AI Education: Balancing Technology with Teaching\"**\n",
            "7. **\"AI-Driven Instruction: How Technology Can Amplify Effective Teaching\"**\n",
            "8. **\"The AI Edge: How Education Institutions Can Stay Ahead of the Curve\"**\n",
            "9. **\"Artificial Intelligence in Education: The Next Generation of Learning\"**\n",
            "10. **\"Making Learning Smarter: The Role of AI in Education and Beyond\"**\n",
            "\n",
            "Choose the one that resonates with your blog's tone and style, or feel free to modify any of these titles to fit your needs!\n"
          ]
        }
      ]
    },
    {
      "cell_type": "code",
      "source": [
        "print(\"\\n=== Blog Outline ===\")\n",
        "print(result['outline'])"
      ],
      "metadata": {
        "colab": {
          "base_uri": "https://localhost:8080/"
        },
        "id": "5ZQvpKoC8B9L",
        "outputId": "92423495-dbe8-4828-e750-12c13b192b15"
      },
      "execution_count": 94,
      "outputs": [
        {
          "output_type": "stream",
          "name": "stdout",
          "text": [
            "\n",
            "=== Blog Outline ===\n",
            "Let's go with the first option: **\"The AI Revolution in Education: Teaching Tomorrow's Leaders Today\"**\n",
            "\n",
            "Here's an outline for the blog:\n",
            "\n",
            "**I. Introduction**\n",
            "\n",
            "* Brief overview of the impact of AI on various industries\n",
            "* Importance of educating students for the future\n",
            "* Thesis statement: AI is transforming the education sector, and it's crucial to explore its benefits and challenges in teaching tomorrow's leaders today\n",
            "\n",
            "**II. What is AI in Education?**\n",
            "\n",
            "* Definition of AI and its applications in education\n",
            "* Types of AI used in education (e.g., chatbots, adaptive learning systems, natural language processing)\n",
            "* Examples of AI-powered educational tools and platforms\n",
            "\n",
            "**III. Benefits of AI in Education**\n",
            "\n",
            "* Personalized learning: how AI can help tailor education to individual students' needs\n",
            "* Improved student outcomes: how AI can help identify learning gaps and provide targeted support\n",
            "* Increased efficiency: how AI can automate administrative tasks and free up teachers' time\n",
            "* Enhanced student engagement: how AI can make learning more interactive and fun\n",
            "\n",
            "**IV. Challenges and Concerns**\n",
            "\n",
            "* Data privacy and security risks\n",
            "* Job displacement of teachers: will AI replace human instructors?\n",
            "* Equity and accessibility: how to ensure AI technology is available to all students\n",
            "* Teacher training and support: how to upskill educators for AI integration\n",
            "\n",
            "**V. Best Practices for Implementing AI in Education**\n",
            "\n",
            "* Integration with existing curriculum and teaching methods\n",
            "* Collaboration between teachers, AI developers, and administrators\n",
            "* Continuous monitoring and evaluation of AI-powered educational tools\n",
            "* Addressing potential biases and limitations of AI systems\n",
            "\n",
            "**VI. Conclusion**\n",
            "\n",
            "* Recap of the benefits and challenges of AI in education\n",
            "* Call to action: embracing AI as a tool to enhance teaching and learning\n",
            "* Final thoughts: the future of education is AI-powered, and it's essential to be prepared for the changes and opportunities that come with it.\n",
            "\n",
            "This outline provides a solid structure for exploring the impact of AI on education, highlighting its benefits, challenges, and best practices for implementation.\n"
          ]
        }
      ]
    },
    {
      "cell_type": "code",
      "source": [
        "print(\"\\n=== Full Blog ===\")\n",
        "print(result['blog'])"
      ],
      "metadata": {
        "colab": {
          "base_uri": "https://localhost:8080/"
        },
        "id": "MM-xKSqW8MAd",
        "outputId": "7dbea923-1333-4413-8022-f81b04126870"
      },
      "execution_count": 95,
      "outputs": [
        {
          "output_type": "stream",
          "name": "stdout",
          "text": [
            "\n",
            "=== Full Blog ===\n",
            "**The AI Revolution in Education: Teaching Tomorrow's Leaders Today**\n",
            "\n",
            "The world is undergoing a technological revolution, and no sector is more affected than education. Artificial Intelligence (AI) is transforming the way we learn, teach, and interact with each other. As we look to the future, it's essential to explore the benefits and challenges of AI in education, and how we can harness its power to teach tomorrow's leaders today.\n",
            "\n",
            "**I. Introduction**\n",
            "\n",
            "AI has already disrupted various industries, from healthcare to finance, and is now making waves in education. The importance of educating students for the future cannot be overstated. With AI transforming the job market and society as a whole, it's crucial that we equip our students with the skills and knowledge necessary to succeed. AI is not a replacement for human teachers, but rather a tool to augment and enhance the learning experience. In this blog post, we'll delve into the world of AI in education, exploring its benefits, challenges, and best practices for implementation.\n",
            "\n",
            "**II. What is AI in Education?**\n",
            "\n",
            "AI is a broad term that encompasses a range of technologies, including machine learning, natural language processing, and computer vision. In education, AI is used in various forms, such as:\n",
            "\n",
            "* Chatbots: AI-powered chatbots can assist students with homework, provide guidance, and offer support outside of regular class hours.\n",
            "* Adaptive learning systems: AI can analyze student performance and adjust the curriculum to meet individual needs, providing a more personalized learning experience.\n",
            "* Natural language processing: AI-powered tools can help students with writing and language skills, providing real-time feedback and suggestions.\n",
            "\n",
            "Examples of AI-powered educational tools and platforms include:\n",
            "\n",
            "* Duolingo's AI-powered language learning app\n",
            "* Knewton's adaptive learning system for math and science\n",
            "* DreamBox's AI-powered math education platform\n",
            "\n",
            "**III. Benefits of AI in Education**\n",
            "\n",
            "The benefits of AI in education are numerous:\n",
            "\n",
            "* **Personalized learning**: AI can help tailor education to individual students' needs, providing a more effective and efficient learning experience.\n",
            "* **Improved student outcomes**: AI can help identify learning gaps and provide targeted support, leading to improved academic performance and student satisfaction.\n",
            "* **Increased efficiency**: AI can automate administrative tasks, freeing up teachers' time to focus on what matters most – teaching and mentoring.\n",
            "* **Enhanced student engagement**: AI can make learning more interactive and fun, increasing student motivation and participation.\n",
            "\n",
            "**IV. Challenges and Concerns**\n",
            "\n",
            "While AI has the potential to revolutionize education, there are also challenges and concerns to be addressed:\n",
            "\n",
            "* **Data privacy and security risks**: As AI collects and analyzes student data, it's essential that we prioritize data privacy and security to protect student information.\n",
            "* **Job displacement of teachers**: AI may replace some teaching tasks, but it's unlikely to replace the human touch and emotional intelligence that teachers bring to the classroom.\n",
            "* **Equity and accessibility**: How do we ensure that AI technology is available to all students, regardless of their background or socioeconomic status?\n",
            "* **Teacher training and support**: How do we upskill educators for AI integration, ensuring they're equipped to effectively use AI-powered tools and platforms?\n",
            "\n",
            "**V. Best Practices for Implementing AI in Education**\n",
            "\n",
            "As we integrate AI into our educational systems, it's essential to follow best practices:\n",
            "\n",
            "* **Integration with existing curriculum and teaching methods**: AI should complement and enhance existing teaching methods, not replace them.\n",
            "* **Collaboration between teachers, AI developers, and administrators**: A collaborative approach is necessary to ensure AI is used effectively and responsibly.\n",
            "* **Continuous monitoring and evaluation**: AI-powered educational tools and platforms should be regularly monitored and evaluated to ensure they're meeting their intended goals.\n",
            "* **Addressing potential biases and limitations**: AI systems can be biased or limited by their training data – it's essential that we address these limitations to ensure fair and inclusive learning experiences.\n",
            "\n",
            "**VI. Conclusion**\n",
            "\n",
            "As we look to the future of education, it's clear that AI will play a significant role. By embracing AI as a tool to enhance teaching and learning, we can create a more personalized, effective, and engaging learning experience for all students. While there are challenges and concerns, we must not let them hold us back from harnessing the power of AI in education. The future of education is AI-powered, and it's essential that we're prepared for the changes and opportunities that come with it.\n"
          ]
        }
      ]
    },
    {
      "cell_type": "code",
      "source": [],
      "metadata": {
        "id": "1jCwhR5C8P3M"
      },
      "execution_count": null,
      "outputs": []
    }
  ]
}