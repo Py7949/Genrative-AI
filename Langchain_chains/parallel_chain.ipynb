{
  "nbformat": 4,
  "nbformat_minor": 0,
  "metadata": {
    "colab": {
      "provenance": []
    },
    "kernelspec": {
      "name": "python3",
      "display_name": "Python 3"
    },
    "language_info": {
      "name": "python"
    }
  },
  "cells": [
    {
      "cell_type": "code",
      "source": [],
      "metadata": {
        "id": "Y6e-zo8OjXU4"
      },
      "execution_count": 28,
      "outputs": []
    },
    {
      "cell_type": "code",
      "source": [
        "from langchain.schema.runnable import RunnableParallel\n",
        "\n",
        "\n",
        "from langchain_groq import ChatGroq\n",
        "from langchain.prompts import PromptTemplate\n",
        "from langchain_core.output_parsers import StrOutputParser"
      ],
      "metadata": {
        "id": "yQ1eD2IYpOph"
      },
      "execution_count": 44,
      "outputs": []
    },
    {
      "cell_type": "code",
      "source": [
        "llm1= ChatGroq(\n",
        "    groq_api_key=\"gsk_234ecOmFPNNjlhCZCF0bWGdyqTJgK2r5yBzND\",\n",
        "     model=\"llama3-8b-8192\"\n",
        ")\n"
      ],
      "metadata": {
        "id": "0LLgtnI7qK_T"
      },
      "execution_count": 64,
      "outputs": []
    },
    {
      "cell_type": "code",
      "source": [
        "llm2= ChatGroq(\n",
        "    groq_api_key=\"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\",\n",
        "     model =\"llama3-70b-8192\"\n",
        ")\n"
      ],
      "metadata": {
        "id": "apQVSF_cjbxt"
      },
      "execution_count": 65,
      "outputs": []
    },
    {
      "cell_type": "code",
      "source": [
        "prompt1 = PromptTemplate(\n",
        "    template='Generate short and simple notes from the following text \\n {text}',\n",
        "    input_variables=['text']\n",
        ")"
      ],
      "metadata": {
        "id": "A80JcE0SvbS2"
      },
      "execution_count": 66,
      "outputs": []
    },
    {
      "cell_type": "code",
      "source": [
        "prompt2 = PromptTemplate(\n",
        "    template='Generate 5 short question answers from the following text \\n {text}',\n",
        "    input_variables=['text']\n",
        ")"
      ],
      "metadata": {
        "id": "mihqxpIhE26U"
      },
      "execution_count": 67,
      "outputs": []
    },
    {
      "cell_type": "code",
      "source": [
        "prompt3 = PromptTemplate(\n",
        "    template='Merge the provided notes and quiz into a single document \\n notes -> {notes} and quiz -> {quiz}',\n",
        "    input_variables=['notes', 'quiz']\n",
        ")"
      ],
      "metadata": {
        "id": "QNDR_FMqkD7N"
      },
      "execution_count": 68,
      "outputs": []
    },
    {
      "cell_type": "code",
      "source": [
        "parser = StrOutputParser()"
      ],
      "metadata": {
        "id": "VcZir_SrtqeM"
      },
      "execution_count": 69,
      "outputs": []
    },
    {
      "cell_type": "code",
      "source": [
        "parallel_chain = RunnableParallel({\n",
        "    'notes': prompt1 | llm1| parser ,\n",
        "    'quiz' :prompt2 | llm2 | parser\n",
        "})"
      ],
      "metadata": {
        "id": "xSq4feYRty_a"
      },
      "execution_count": 70,
      "outputs": []
    },
    {
      "cell_type": "code",
      "source": [
        "merge_chain = prompt3 | llm2 |parser"
      ],
      "metadata": {
        "id": "LUbRZux4lU9z"
      },
      "execution_count": 71,
      "outputs": []
    },
    {
      "cell_type": "code",
      "source": [
        "chain = parallel_chain | merge_chain\n",
        "\n",
        "text = \"\"\"\n",
        "Support vector machines (SVMs) are a set of supervised learning methods used for classification, regression and outliers detection.\n",
        "\n",
        "The advantages of support vector machines are:\n",
        "\n",
        "Effective in high dimensional spaces.\n",
        "\n",
        "Still effective in cases where number of dimensions is greater than the number of samples.\n",
        "\n",
        "Uses a subset of training points in the decision function (called support vectors), so it is also memory efficient.\n",
        "\n",
        "Versatile: different Kernel functions can be specified for the decision function. Common kernels are provided, but it is also possible to specify custom kernels.\n",
        "\n",
        "The disadvantages of support vector machines include:\n",
        "\n",
        "If the number of features is much greater than the number of samples, avoid over-fitting in choosing Kernel functions and regularization term is crucial.\n",
        "\n",
        "SVMs do not directly provide probability estimates, these are calculated using an expensive five-fold cross-validation (see Scores and probabilities, below).\n",
        "\n",
        "The support vector machines in scikit-learn support both dense (numpy.ndarray and convertible to that by numpy.asarray) and sparse (any scipy.sparse) sample vectors as input. However, to use an SVM to make predictions for sparse data, it must have been fit on such data. For optimal performance, use C-ordered numpy.ndarray (dense) or scipy.sparse.csr_matrix (sparse) with dtype=float64.\n",
        "\"\"\""
      ],
      "metadata": {
        "id": "9G1EZTkKlh9f"
      },
      "execution_count": 72,
      "outputs": []
    },
    {
      "cell_type": "code",
      "source": [
        "result = chain.invoke({'text':text})"
      ],
      "metadata": {
        "id": "hrQ1at-mBhSX"
      },
      "execution_count": 73,
      "outputs": []
    },
    {
      "cell_type": "code",
      "source": [
        "print(result)"
      ],
      "metadata": {
        "colab": {
          "base_uri": "https://localhost:8080/"
        },
        "id": "jLttQvrgnYfr",
        "outputId": "218018b7-ef1a-4cef-da89-e0d2f67a0506"
      },
      "execution_count": 74,
      "outputs": [
        {
          "output_type": "stream",
          "name": "stdout",
          "text": [
            "Here is the merged document:\n",
            "\n",
            "**Support Vector Machines (SVMs) Notes and Quiz**\n",
            "\n",
            "**Advantages of Support Vector Machines (SVMs)**\n",
            "\n",
            "* Effective in high-dimensional spaces\n",
            "* Effective even with many features compared to samples\n",
            "* Memory-efficient (uses a subset of training points)\n",
            "* Versatile (different kernel functions can be used)\n",
            "\n",
            "**Disadvantages of Support Vector Machines (SVMs)**\n",
            "\n",
            "* Overfitting can occur if not careful with kernel functions and regularization\n",
            "* No direct probability estimates (expensive cross-validation needed)\n",
            "* Limited support for sparse data (must be fit on sparse data for optimal performance)\n",
            "\n",
            "**Quiz**\n",
            "\n",
            "**Q1: What are Support Vector Machines (SVMs) used for?**\n",
            "A1: Classification, regression, and outliers detection.\n",
            "\n",
            "**Q2: What is an advantage of SVMs in high-dimensional spaces?**\n",
            "A2: They are effective, even when the number of dimensions is greater than the number of samples.\n",
            "\n",
            "**Q3: Why are SVMs memory efficient?**\n",
            "A3: They use a subset of training points (support vectors) in the decision function.\n",
            "\n",
            "**Q4: What is a disadvantage of SVMs when the number of features is high?**\n",
            "A4: They are prone to over-fitting, requiring careful choice of kernel functions and regularization terms.\n",
            "\n",
            "**Q5: What type of input data can SVMs in scikit-learn support?**\n",
            "A5: Both dense (numpy.ndarray) and sparse (scipy.sparse) sample vectors.\n"
          ]
        }
      ]
    },
    {
      "cell_type": "code",
      "source": [
        "\n",
        "chain.get_graph().print_ascii()"
      ],
      "metadata": {
        "colab": {
          "base_uri": "https://localhost:8080/"
        },
        "id": "hTo4vBhWBtY5",
        "outputId": "7d877aa7-5478-438b-8fd5-09d4d69c5858"
      },
      "execution_count": 77,
      "outputs": [
        {
          "output_type": "stream",
          "name": "stdout",
          "text": [
            "          +---------------------------+            \n",
            "          | Parallel<notes,quiz>Input |            \n",
            "          +---------------------------+            \n",
            "                ***             ***                \n",
            "              **                   **              \n",
            "            **                       **            \n",
            "+----------------+              +----------------+ \n",
            "| PromptTemplate |              | PromptTemplate | \n",
            "+----------------+              +----------------+ \n",
            "          *                             *          \n",
            "          *                             *          \n",
            "          *                             *          \n",
            "    +----------+                  +----------+     \n",
            "    | ChatGroq |                  | ChatGroq |     \n",
            "    +----------+                  +----------+     \n",
            "          *                             *          \n",
            "          *                             *          \n",
            "          *                             *          \n",
            "+-----------------+            +-----------------+ \n",
            "| StrOutputParser |            | StrOutputParser | \n",
            "+-----------------+            +-----------------+ \n",
            "                ***             ***                \n",
            "                   **         **                   \n",
            "                     **     **                     \n",
            "          +----------------------------+           \n",
            "          | Parallel<notes,quiz>Output |           \n",
            "          +----------------------------+           \n",
            "                         *                         \n",
            "                         *                         \n",
            "                         *                         \n",
            "                +----------------+                 \n",
            "                | PromptTemplate |                 \n",
            "                +----------------+                 \n",
            "                         *                         \n",
            "                         *                         \n",
            "                         *                         \n",
            "                   +----------+                    \n",
            "                   | ChatGroq |                    \n",
            "                   +----------+                    \n",
            "                         *                         \n",
            "                         *                         \n",
            "                         *                         \n",
            "                +-----------------+                \n",
            "                | StrOutputParser |                \n",
            "                +-----------------+                \n",
            "                         *                         \n",
            "                         *                         \n",
            "                         *                         \n",
            "            +-----------------------+              \n",
            "            | StrOutputParserOutput |              \n",
            "            +-----------------------+              \n"
          ]
        }
      ]
    }
  ]
}