{
  "cells": [
    {
      "cell_type": "code",
      "execution_count": 19,
      "metadata": {
        "id": "fZKMomfCTbl8"
      },
      "outputs": [],
      "source": [
        "from langchain_groq import ChatGroq\n",
        "from langchain.prompts import PromptTemplate\n",
        "from langchain_core.output_parsers import StrOutputParser"
      ]
    },
    {
      "cell_type": "code",
      "execution_count": 20,
      "metadata": {
        "id": "ikeF8D3ATxFN"
      },
      "outputs": [],
      "source": [
        "llm = ChatGroq(\n",
        "    groq_api_key=\"gsk_\",\n",
        "     model=\"llama3-8b-8192\"\n",
        ")\n"
      ]
    },
    {
      "cell_type": "code",
      "execution_count": 21,
      "metadata": {
        "id": "-SK-ctpBT4To"
      },
      "outputs": [],
      "source": [
        "prompt = PromptTemplate(\n",
        "    input_variables=[\"topic\"],\n",
        "    template=\"Write a detailed report on the topic: {topic}\"\n",
        ")"
      ]
    },
    {
      "cell_type": "code",
      "execution_count": 22,
      "metadata": {
        "id": "6Ajg-v17V6JC"
      },
      "outputs": [],
      "source": [
        "parser = StrOutputParser()"
      ]
    },
    {
      "cell_type": "code",
      "execution_count": 23,
      "metadata": {
        "id": "yvpMowlOlgG3"
      },
      "outputs": [],
      "source": [
        "chain = prompt | llm | parser"
      ]
    },
    {
      "cell_type": "code",
      "execution_count": 24,
      "metadata": {
        "id": "7enXqBAUV97G"
      },
      "outputs": [],
      "source": [
        "parser = StrOutputParser()"
      ]
    },
    {
      "cell_type": "code",
      "execution_count": 25,
      "metadata": {
        "id": "0BCbOVPAWCfJ"
      },
      "outputs": [],
      "source": [
        "template = PromptTemplate(\n",
        "    template='Generate 5 interesting facts about {topic}',\n",
        "    input_variables=['topic']\n",
        "\n",
        ")"
      ]
    },
    {
      "cell_type": "code",
      "execution_count": 26,
      "metadata": {
        "id": "4Q_-Rb72WMwB"
      },
      "outputs": [],
      "source": [
        "chain = prompt | llm | parser"
      ]
    },
    {
      "cell_type": "code",
      "execution_count": 27,
      "metadata": {
        "id": "KaecCQeEWWIe"
      },
      "outputs": [],
      "source": [
        "result = chain.invoke({'topic': 'Unemployment in India'})"
      ]
    },
    {
      "cell_type": "code",
      "execution_count": 30,
      "metadata": {
        "id": "ItChYCjqWmIM",
        "colab": {
          "base_uri": "https://localhost:8080/"
        },
        "outputId": "01279616-d723-4896-8cd2-339e0eed0cb8"
      },
      "outputs": [
        {
          "output_type": "stream",
          "name": "stdout",
          "text": [
            "**Unemployment in India: A Detailed Report**\n",
            "\n",
            "Introduction:\n",
            "\n",
            "Unemployment is a pressing issue in India, affecting millions of people and having significant social, economic, and political implications. Despite being one of the fastest-growing economies in the world, India faces a complex and evolving unemployment landscape. This report provides an in-depth analysis of the unemployment situation in India, highlighting its causes, consequences, and potential solutions.\n",
            "\n",
            "**Definition and Scope:**\n",
            "\n",
            "Unemployment in India refers to the state of being without a paid job or occupation, and being actively seeking employment. The scope of unemployment in India is broad, encompassing not only the formally unemployed but also those who are underemployed, working in the informal sector, or engaged in irregular or seasonal work.\n",
            "\n",
            "**Causes of Unemployment in India:**\n",
            "\n",
            "1. **Lack of Job Creation:** The Indian economy has not been able to create enough jobs to absorb the growing workforce. This is largely attributed to the slow pace of industrialization, inadequate investment in infrastructure, and limited opportunities in the formal sector.\n",
            "2. **Demographic Factors:** India's large and young population, with over 65% of the population below the age of 35, contributes to the unemployment problem. The rapid growth of the youth population puts pressure on the job market, making it challenging for young Indians to find employment.\n",
            "3. **Education and Skills:** The quality of education in India is often criticized for not being aligned with the needs of the job market. Many young Indians lack the necessary skills, training, and qualifications to compete in the global economy.\n",
            "4. **Regional Imbalance:** Unemployment rates vary significantly across regions in India. States like Uttar Pradesh, Bihar, and Madhya Pradesh have higher unemployment rates compared to states like Maharashtra, Karnataka, and Tamil Nadu.\n",
            "5. **Seasonal and Cyclical Factors:** Unemployment in India is often influenced by seasonal and cyclical factors, such as agricultural seasons, festivals, and economic downturns.\n",
            "\n",
            "**Consequences of Unemployment in India:**\n",
            "\n",
            "1. **Poverty and Inequality:** Unemployment exacerbates poverty and inequality in India, as those who are unable to find employment are often forced to rely on government assistance, family support, or informal economy activities.\n",
            "2. **Social Unrest and Political Instability:** Unemployment can lead to social unrest, protests, and political instability, as frustrated youth and workers may turn to extremist ideologies or participate in anti-government movements.\n",
            "3. **Brain Drain:** Unemployment can lead to a brain drain, as talented and educated Indians may seek opportunities abroad, depriving the country of skilled workers and expertise.\n",
            "4. **Economic Contraction:** Unemployment can have negative effects on economic growth, as reduced consumer spending and investment can lead to a contraction in the economy.\n",
            "\n",
            "**Statistics and Trends:**\n",
            "\n",
            "1. **Unemployment Rate:** The unemployment rate in India has remained relatively stable at around 4-5% in recent years, although this rate masks significant variations across regions and demographic groups.\n",
            "2. **Youth Unemployment:** The unemployment rate among young Indians (15-29 years) is significantly higher, averaging around 10-15%.\n",
            "3. **Female Unemployment:** Women face higher unemployment rates than men, with an average rate of around 8-10%.\n",
            "4. **Rural-Urban Divide:** Unemployment rates are generally higher in rural areas (6-8%) compared to urban areas (3-5%).\n",
            "\n",
            "**Solutions and Recommendations:**\n",
            "\n",
            "1. **Job Creation:** The government and private sector should invest in job creation initiatives, such as skill development programs, entrepreneurship support, and infrastructure development.\n",
            "2. **Education and Skills:** The education system should be revamped to focus on skill development, vocational training, and industry-relevant skills.\n",
            "3. **Regional Development:** The government should prioritize regional development initiatives, such as infrastructure projects, to reduce regional disparities and unemployment.\n",
            "4. **Social Safety Nets:** The government should strengthen social safety nets, such as unemployment benefits, to support those affected by unemployment.\n",
            "5. **Fiscal Policy:** The government should implement fiscal policies, such as tax incentives and subsidies, to encourage job creation and entrepreneurship.\n",
            "\n",
            "Conclusion:\n",
            "\n",
            "Unemployment is a pressing issue in India, with significant social, economic, and political consequences. To address this challenge, it is essential to focus on job creation, education and skills development, regional development, social safety nets, and fiscal policy initiatives. By implementing these solutions, India can reduce unemployment and promote sustainable economic growth, social stability, and political harmony.\n",
            "     +-------------+       \n",
            "     | PromptInput |       \n",
            "     +-------------+       \n",
            "            *              \n",
            "            *              \n",
            "            *              \n",
            "    +----------------+     \n",
            "    | PromptTemplate |     \n",
            "    +----------------+     \n",
            "            *              \n",
            "            *              \n",
            "            *              \n",
            "      +----------+         \n",
            "      | ChatGroq |         \n",
            "      +----------+         \n",
            "            *              \n",
            "            *              \n",
            "            *              \n",
            "   +-----------------+     \n",
            "   | StrOutputParser |     \n",
            "   +-----------------+     \n",
            "            *              \n",
            "            *              \n",
            "            *              \n",
            "+-----------------------+  \n",
            "| StrOutputParserOutput |  \n",
            "+-----------------------+  \n"
          ]
        }
      ],
      "source": [
        "print(result)\n",
        "chain.get_graph().print_ascii()"
      ]
    },
    {
      "cell_type": "code",
      "metadata": {
        "colab": {
          "base_uri": "https://localhost:8080/"
        },
        "id": "2fbc0abe",
        "outputId": "1caa9d46-a1d1-471d-c52c-0f89ba1b675c"
      },
      "source": [
        "!pip install grandalf\n"
      ],
      "execution_count": 29,
      "outputs": [
        {
          "output_type": "stream",
          "name": "stdout",
          "text": [
            "Collecting grandalf\n",
            "  Downloading grandalf-0.8-py3-none-any.whl.metadata (1.7 kB)\n",
            "Requirement already satisfied: pyparsing in /usr/local/lib/python3.11/dist-packages (from grandalf) (3.2.3)\n",
            "Downloading grandalf-0.8-py3-none-any.whl (41 kB)\n",
            "\u001b[?25l   \u001b[90m━━━━━━━━━━━━━━━━━━━━━━━━━━━━━━━━━━━━━━━━\u001b[0m \u001b[32m0.0/41.8 kB\u001b[0m \u001b[31m?\u001b[0m eta \u001b[36m-:--:--\u001b[0m\r\u001b[2K   \u001b[90m━━━━━━━━━━━━━━━━━━━━━━━━━━━━━━━━━━━━━━━━\u001b[0m \u001b[32m41.8/41.8 kB\u001b[0m \u001b[31m2.4 MB/s\u001b[0m eta \u001b[36m0:00:00\u001b[0m\n",
            "\u001b[?25hInstalling collected packages: grandalf\n",
            "Successfully installed grandalf-0.8\n"
          ]
        }
      ]
    },
    {
      "cell_type": "code",
      "source": [],
      "metadata": {
        "id": "bemjhpSxEdbt"
      },
      "execution_count": null,
      "outputs": []
    }
  ],
  "metadata": {
    "colab": {
      "provenance": []
    },
    "kernelspec": {
      "display_name": "Python 3",
      "name": "python3"
    },
    "language_info": {
      "name": "python"
    }
  },
  "nbformat": 4,
  "nbformat_minor": 0
}